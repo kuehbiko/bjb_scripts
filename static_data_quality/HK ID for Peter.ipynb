{
 "cells": [
  {
   "cell_type": "code",
   "execution_count": 1,
   "id": "ff7cba95",
   "metadata": {},
   "outputs": [],
   "source": [
    "import pandas as pd\n",
    "import numpy as np\n",
    "from pandas import ExcelWriter\n",
    "import time\n",
    "from datetime import datetime\n",
    "import datetime as dt\n",
    "import warnings\n",
    "warnings.simplefilter(\"ignore\")"
   ]
  },
  {
   "cell_type": "code",
   "execution_count": 2,
   "id": "a80f65a5",
   "metadata": {},
   "outputs": [],
   "source": [
    "# output file: HK_ID_YYMMDD.xlsx\n",
    "current_date = time.strftime(\"%Y%m%d\")\n",
    "report_name = 'HK_ID_' + current_date\n",
    "#change path below to folder you would like to save the output file\n",
    "drive_letter = r'..\\Python Scripts\\\\'\n",
    "folder_to_save_files = drive_letter + report_name + '.xlsx'"
   ]
  },
  {
   "cell_type": "code",
   "execution_count": 3,
   "id": "3aa29846",
   "metadata": {},
   "outputs": [],
   "source": [
    "# import the party_data.xlsx\n",
    "file_path = r'108536_Report_2.xlsx'\n",
    "sheet_name = '108536 Report'\n",
    "df = pd.read_excel(file_path, sheet_name = sheet_name, na_filter = False)\n",
    "# filter for individuals\n",
    "df_natural = df[df['Party Type']=='Natural Person']"
   ]
  },
  {
   "cell_type": "code",
   "execution_count": 4,
   "id": "73961283",
   "metadata": {},
   "outputs": [],
   "source": [
    "#Preprocessing of party name\n",
    "df_natural.loc[:,'Party Name_pre']=df_natural['Party Name'].copy()\n",
    "df_natural['Party Name_pre'] = df_natural['Party Name_pre'].str.strip()\n",
    "df_natural['Party Name_pre'] = df_natural['Party Name_pre'].str.replace(\".\",\"\")\n",
    "df_natural['Party Name_pre'] = df_natural['Party Name_pre'].str.replace(\" \",\"\")\n",
    "df_natural['Party Name_pre'] = df_natural['Party Name_pre'].str.replace('\\t','')\n",
    "df_natural['Party Name_pre'] = df_natural['Party Name_pre'].str.replace(\",\",\"\")\n",
    "df_natural['Party Name_pre'] = df_natural['Party Name_pre'].str.lower()\n",
    "\n",
    "#Prepocessing 'Identification Document Number' to remove space & casing\n",
    "df_natural.loc[:,'Identification Document Number_pre']=df_natural['Identification Document Number'].copy()\n",
    "df_natural['Identification Document Number_pre'] = df_natural['Identification Document Number_pre'].str.replace(\".\",\"\")\n",
    "df_natural['Identification Document Number_pre'] = df_natural['Identification Document Number_pre'].str.replace(\" \",\"\")\n",
    "df_natural['Identification Document Number_pre'] = df_natural['Identification Document Number_pre'].str.replace(\",\",\"\")\n",
    "df_natural['Identification Document Number_pre'] = df_natural['Identification Document Number_pre'].str.lower()\n",
    "\n",
    "# beneficiary only list\n",
    "bene_only = df_natural.groupby('Party ID')['Relationship (Party Role)'].agg(set).reset_index(name='role_set')\n",
    "bene_only = bene_only[bene_only['role_set']=={'Beneficiary'}]\n",
    "bene_only_list = bene_only['Party ID'].to_list()\n",
    "df_natural['bene_only'] = df_natural['Party ID'].isin(bene_only_list)\n",
    "\n",
    "#dates\n",
    "df_natural['Date of Birth']  = pd.to_datetime(df_natural['Date of Birth'], format='%Y-%m-%d', errors='coerce').dt.date"
   ]
  },
  {
   "cell_type": "markdown",
   "id": "f8465420",
   "metadata": {},
   "source": [
    "### < Specific Code Goes Here >\n",
    "HK Nationality \n",
    "No HK Passport\n",
    "HK ID or HK Permanent ID"
   ]
  },
  {
   "cell_type": "code",
   "execution_count": 30,
   "id": "15f16e19",
   "metadata": {},
   "outputs": [],
   "source": [
    "tab25 = df_natural.copy()\n",
    "\n",
    "# create a key\n",
    "# should the key be party name-DOB or party ID\n",
    "tab25['key'] = tab25['Party Name_pre'].astype(str) + tab25['Date of Birth'].astype(str)\n",
    "\n",
    "# only HK Nationality\n",
    "tab25 = tab25[tab25[\"Nationality\"]==\"Hong Kong\"]\n",
    "\n",
    "# only HK documents\n",
    "tab25 = tab25[tab25[\"Identification Document Issue Country\"]==\"Hong Kong\"]\n",
    "\n",
    "# set of all ID documents a party has\n",
    "tab25_id = tab25.groupby('key')['Identification Document Type'].agg(set).reset_index(name='id_set')\n",
    "id_set = tab25_id['id_set'].tolist()\n",
    "\n",
    "# function to check that id set does not contain HK passport\n",
    "def check_id(id_set):\n",
    "    hk_set = {'Passport'}\n",
    "    result = id_set.intersection(hk_set)\n",
    "    return len(result) == 0 #if TRUE: empty intersection. means HK Passport not present\n",
    "\n",
    "tab25_id['passport_missing'] = tab25_id['id_set'].apply(lambda x: check_id(x))\n",
    "tab25_id = tab25_id[tab25_id['passport_missing']==True]\n",
    "\n",
    "# compare keep list to original table\n",
    "tab25_id_list = tab25_id['key'].tolist()\n",
    "tab25['exist'] = tab25['key'].isin(tab25_id_list)\n",
    "tab25 = tab25[tab25['exist']==True]\n",
    "\n",
    "# remove duplicates and sort\n",
    "tab25 = tab25.drop_duplicates(subset=['Party ID', 'key'])\n",
    "tab25 = tab25.sort_values(by=[\"key\",'Party ID'])\n",
    "\n",
    "# select columns\n",
    "tab25_columns = tab25[['Party ID','Party Name','RM UID.1','RM Name.1','Date of Birth','Nationality','Identification Document Type','Identification Document Issue Country','bene_only']]"
   ]
  },
  {
   "cell_type": "code",
   "execution_count": 31,
   "id": "ec901cae",
   "metadata": {},
   "outputs": [],
   "source": [
    "tab25_columns.to_csv('HK_ID.csv', index=False)"
   ]
  }
 ],
 "metadata": {
  "kernelspec": {
   "display_name": "Python 3",
   "language": "python",
   "name": "python3"
  },
  "language_info": {
   "codemirror_mode": {
    "name": "ipython",
    "version": 3
   },
   "file_extension": ".py",
   "mimetype": "text/x-python",
   "name": "python",
   "nbconvert_exporter": "python",
   "pygments_lexer": "ipython3",
   "version": "3.8.8"
  }
 },
 "nbformat": 4,
 "nbformat_minor": 5
}
