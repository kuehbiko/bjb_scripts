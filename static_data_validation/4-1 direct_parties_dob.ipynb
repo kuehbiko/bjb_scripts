{
 "cells": [
  {
   "cell_type": "code",
   "execution_count": 1,
   "id": "0608d131",
   "metadata": {},
   "outputs": [],
   "source": [
    "# import libraries\n",
    "import pandas as pd\n",
    "pd.set_option('display.max_columns', None)\n",
    "\n",
    "import datetime as dt"
   ]
  },
  {
   "cell_type": "code",
   "execution_count": 2,
   "id": "8b97954a",
   "metadata": {},
   "outputs": [],
   "source": [
    "today = dt.datetime.now()\n",
    "year = today.year"
   ]
  },
  {
   "cell_type": "code",
   "execution_count": 3,
   "id": "19e03bac",
   "metadata": {},
   "outputs": [
    {
     "name": "stdout",
     "output_type": "stream",
     "text": [
      "input file location of report 4-1: 1\n",
      "input file location of previous report: 2\n"
     ]
    }
   ],
   "source": [
    "# get file paths\n",
    "curr_filepath = input('input file location of report 4-1: ') #../data_and_output/110817/R4_1_Report.xlsx\n",
    "prev_filepath = input('input file location of previous report: ') #../data_and_output/4-2 direct_master_q3.xlsx"
   ]
  },
  {
   "cell_type": "code",
   "execution_count": 4,
   "id": "bf65c255",
   "metadata": {
    "scrolled": true
   },
   "outputs": [
    {
     "name": "stderr",
     "output_type": "stream",
     "text": [
      "C:\\ProgramData\\Anaconda3\\lib\\site-packages\\openpyxl\\styles\\stylesheet.py:221: UserWarning: Workbook contains no default style, apply openpyxl's default\n",
      "  warn(\"Workbook contains no default style, apply openpyxl's default\")\n"
     ]
    }
   ],
   "source": [
    "# read in data\n",
    "df_curr = pd.read_excel(curr_filepath) # report 4-1\n",
    "df_prev = pd.read_excel(prev_filepath) # previous report"
   ]
  },
  {
   "cell_type": "code",
   "execution_count": 5,
   "id": "ab9c0297",
   "metadata": {},
   "outputs": [
    {
     "name": "stdout",
     "output_type": "stream",
     "text": [
      "input batch number (eg. 2023 Q3): Q4\n"
     ]
    }
   ],
   "source": [
    "df_curr['Batch'] = input('input batch number (eg. 2023 Q3): ')"
   ]
  },
  {
   "cell_type": "code",
   "execution_count": 6,
   "id": "6124652a",
   "metadata": {},
   "outputs": [],
   "source": [
    "df_curr[['Remarks','Action Required','Action Team','Status of Cleanup','Completion Date','Valid Exception']] = \"\""
   ]
  },
  {
   "cell_type": "code",
   "execution_count": 7,
   "id": "d271202e",
   "metadata": {},
   "outputs": [],
   "source": [
    "df_prev['Date of Birth']  = pd.to_datetime(df_prev['Date of Birth'], format='%Y-%m-%d', errors='coerce').dt.date\n",
    "df_prev['Date of Incorporation']  = pd.to_datetime(df_prev['Date of Incorporation'], format='%Y-%m-%d', errors='coerce').dt.date\n",
    "\n",
    "df_prev['dob_year'] = df_prev['Date of Birth'].apply(lambda x: x.year)\n",
    "df_prev['doi_year'] = df_prev['Date of Incorporation'].apply(lambda x: x.year)"
   ]
  },
  {
   "cell_type": "code",
   "execution_count": 8,
   "id": "923b7bcb",
   "metadata": {},
   "outputs": [],
   "source": [
    "df_curr['Date of Birth']  = pd.to_datetime(df_curr['Date of Birth'], format='%Y-%m-%d', errors='coerce').dt.date\n",
    "df_curr['Date of Incorporation']  = pd.to_datetime(df_curr['Date of Incorporation'], format='%Y-%m-%d', errors='coerce').dt.date\n",
    "\n",
    "df_curr['dob_year'] = df_curr['Date of Birth'].apply(lambda x: x.year)\n",
    "df_curr['doi_year'] = df_curr['Date of Incorporation'].apply(lambda x: x.year)"
   ]
  },
  {
   "cell_type": "code",
   "execution_count": 9,
   "id": "34ddfa25",
   "metadata": {},
   "outputs": [],
   "source": [
    "df_prev['key'] = df_prev['Portfolio Number'].astype('str') + df_prev['Party ID'].astype('str')\n",
    "df_curr['key'] = df_curr['Portfolio Number'].astype('str') + df_curr['Party ID'].astype('str')"
   ]
  },
  {
   "cell_type": "code",
   "execution_count": 10,
   "id": "c3392a1b",
   "metadata": {},
   "outputs": [],
   "source": [
    "# filter active status\n",
    "df_curr = df_curr[df_curr['Current Status'] == 'Active']"
   ]
  },
  {
   "cell_type": "code",
   "execution_count": 11,
   "id": "c8382af7",
   "metadata": {},
   "outputs": [],
   "source": [
    "#filter dob/doi\n",
    "df_curr = df_curr[(year-df_curr['dob_year']>100) | (year-df_curr['doi_year']>100)]\n",
    "df_prev = df_prev[(year-df_prev['dob_year']>100) | (year-df_prev['doi_year']>100)]"
   ]
  },
  {
   "cell_type": "code",
   "execution_count": 12,
   "id": "d958740c",
   "metadata": {},
   "outputs": [],
   "source": [
    "# at this point we have finished preparing the current report\n",
    "# now merge with the records in the previous report"
   ]
  },
  {
   "cell_type": "code",
   "execution_count": 13,
   "id": "8618d817",
   "metadata": {},
   "outputs": [],
   "source": [
    "# identify parties that appeared in previous report\n",
    "prev_parties = df_prev['key'].tolist()"
   ]
  },
  {
   "cell_type": "code",
   "execution_count": 14,
   "id": "31fac3ff",
   "metadata": {},
   "outputs": [],
   "source": [
    "# identify parties that appear in current report\n",
    "curr_parties = df_curr['key'].tolist()"
   ]
  },
  {
   "cell_type": "code",
   "execution_count": 15,
   "id": "41b21c9c",
   "metadata": {},
   "outputs": [],
   "source": [
    "# list of parties that appear in both previous and current report (unresolved or exceptions)\n",
    "both_parties = set(prev_parties).intersection(set(curr_parties))"
   ]
  },
  {
   "cell_type": "code",
   "execution_count": 16,
   "id": "3d8b0d46",
   "metadata": {},
   "outputs": [],
   "source": [
    "# list of new parties that appear only in the current report\n",
    "new_parties = set(curr_parties).difference(set(prev_parties))"
   ]
  },
  {
   "cell_type": "code",
   "execution_count": 17,
   "id": "d6d9731c",
   "metadata": {},
   "outputs": [],
   "source": [
    "# total unresolved = old unresolved (both_parties) and new unresolved (new_parties)\n",
    "df_curr = df_curr[(df_curr['key'].isin(both_parties)) | (df_curr['key'].isin(new_parties))]"
   ]
  },
  {
   "cell_type": "code",
   "execution_count": 18,
   "id": "6e5f577c",
   "metadata": {},
   "outputs": [],
   "source": [
    "# update old unresolved parties with details from previous remediation\n",
    "cols = ['Batch', 'Remarks','Action Required','Action Team','Status of Cleanup','Completion Date','Valid Exception']\n",
    "for col in cols:\n",
    "    df_curr.loc[df_curr['key'].isin(both_parties),col] = df_prev.loc[df_prev['key'].isin(both_parties),col].tolist()"
   ]
  },
  {
   "cell_type": "code",
   "execution_count": 19,
   "id": "7091e40d",
   "metadata": {},
   "outputs": [],
   "source": [
    "# drop extra columns, rearrange columns\n",
    "df_curr = df_curr.drop(columns=['dob_year','doi_year', 'key'])\n",
    "\n",
    "df_curr = df_curr[['Batch', 'Remarks','Action Required','Action Team','Status of Cleanup','Completion Date','Valid Exception',\n",
    "                   'Portfolio Number', 'Portfolio Name', 'Current Status', 'Relationship Type', 'Relationship Sub-Type', \n",
    "                   'RM Name', 'RM Location Name', 'RM Team Name', 'Booking Center Officer Name','Managed By EAM / EIA / Finder',\n",
    "                   'EAM / EIA Name', 'Finder Name','Portfolio Opening Date', 'Relationship (Party Role)', 'Party Name',\n",
    "                   'Party Type', 'Party ID', 'Is Public', 'Date of Birth','Date of Incorporation']]\n",
    "\n",
    "df_curr = df_curr.sort_values(by='Batch')"
   ]
  },
  {
   "cell_type": "code",
   "execution_count": 20,
   "id": "c8eb0ea9",
   "metadata": {},
   "outputs": [],
   "source": [
    "# print to excel\n",
    "df_curr.to_excel('direct_party_dob-doi.xlsx', index=False)"
   ]
  }
 ],
 "metadata": {
  "kernelspec": {
   "display_name": "Python 3",
   "language": "python",
   "name": "python3"
  },
  "language_info": {
   "codemirror_mode": {
    "name": "ipython",
    "version": 3
   },
   "file_extension": ".py",
   "mimetype": "text/x-python",
   "name": "python",
   "nbconvert_exporter": "python",
   "pygments_lexer": "ipython3",
   "version": "3.8.8"
  }
 },
 "nbformat": 4,
 "nbformat_minor": 5
}
