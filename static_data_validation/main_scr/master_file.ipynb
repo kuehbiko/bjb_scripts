{
 "cells": [
  {
   "cell_type": "code",
   "execution_count": null,
   "id": "076b2589",
   "metadata": {},
   "outputs": [],
   "source": [
    "import pandas as pd\n",
    "import numpy as np\n",
    "from pandas import ExcelWriter\n",
    "import xlsxwriter\n",
    "import warnings\n",
    "warnings.simplefilter('ignore')"
   ]
  },
  {
   "cell_type": "code",
   "execution_count": null,
   "id": "52b99890",
   "metadata": {},
   "outputs": [],
   "source": [
    "curr_report_path = input('This quarter report: ') #\n",
    "prev_report_path = input('Last quarter report: ') #"
   ]
  },
  {
   "cell_type": "code",
   "execution_count": null,
   "id": "eb5b9e1e",
   "metadata": {},
   "outputs": [],
   "source": [
    "filename = input(\"give the output file a name (eg. q3_master_file): \") #Q4_master_natural_persons"
   ]
  },
  {
   "cell_type": "code",
   "execution_count": null,
   "id": "19ac0c21",
   "metadata": {},
   "outputs": [],
   "source": [
    "curr_report = pd.read_excel(curr_report_path, sheet_name=None)\n",
    "prev_report = pd.read_excel(prev_report_path, sheet_name=None)"
   ]
  },
  {
   "cell_type": "code",
   "execution_count": null,
   "id": "fda4d7da",
   "metadata": {},
   "outputs": [],
   "source": [
    "# create text file for links used\n",
    "path = filename + '.txt'\n",
    "with open(path, 'w') as f:\n",
    "    f.write('Current Report path: ' + curr_report_path)\n",
    "    f.write('\\nPrevious Report path: ' + prev_report_path)\n",
    "f.close()"
   ]
  },
  {
   "cell_type": "code",
   "execution_count": null,
   "id": "bce65e38",
   "metadata": {},
   "outputs": [],
   "source": [
    "sheet_list = list(curr_report.keys())\n",
    "\n",
    "df_dict = {}\n",
    "\n",
    "for sheet in sheet_list:\n",
    "    \n",
    "    curr_df = curr_report.get(sheet)\n",
    "    prev_df = prev_report.get(sheet)\n",
    "    \n",
    "    if (curr_df is None) or (prev_df is None): \n",
    "        \n",
    "        df_dict[sheet] = curr_df\n",
    "        break\n",
    "    \n",
    "    else: \n",
    "        # create column for identifying key\n",
    "        df_curr['key'] = curr_df['Party ID'] + curr_df['Inconsistency'] + \n",
    "        df_prev['key'] = prev_df['Party ID'] + prev_df['Inconsistency']\n",
    "    \n",
    "        # identify prev_report records that are not resolved \n",
    "        curr_parties = df_curr['key'].tolist()\n",
    "        prev_parties = df_prev['key'].tolist()\n",
    "    \n",
    "        # keep prev_report records that are still pending\n",
    "        # edit: want to remove prev_report records if they are still pending (but keep remarks/batch id/fill-in fields)\n",
    "        # idea is to replace old CRM information with new CRM information\n",
    "        # list of parties that appear in both previous and current report (unresolved or exceptions)\n",
    "        both_parties = set(prev_parties).intersection(set(curr_parties))\n",
    "        new_parties = set(curr_parties).difference(set(prev_parties))\n",
    "    \n",
    "        #curr_df.loc[curr_df['key'].isin(prev_unresolved), 'Remarks'] = prev_df[prev_df['exist in current']==True]\n",
    "    \n",
    "        # remove curr_report records that are already present in prev_report\n",
    "        # edit: KEEP curr_report records that are in prev_report\n",
    "        df_curr = df_curr[(df_curr['key'].isin(both_parties)) | (df_curr['key'].isin(new_parties))]\n",
    "    \n",
    "        result_df = pd.concat([df_prev[df_prev['key'].isin(both_parties)], df_curr[df_curr['key'].isin(new_parties)]])\n",
    "        result_df = result_df.drop(columns=['key'])\n",
    "    \n",
    "        df_dict[sheet] = result_df"
   ]
  },
  {
   "cell_type": "code",
   "execution_count": null,
   "id": "aedd63e7",
   "metadata": {},
   "outputs": [],
   "source": [
    "fin_sheet_list = list(df_dict.keys())\n",
    "\n",
    "writer = ExcelWriter(filename + \".xlsx\", mode='w', engine='xlsxwriter')\n",
    "\n",
    "for sheet in fin_sheet_list:\n",
    "    result = df_dict.get(sheet)\n",
    "    result.to_excel(writer, sheet, index=False)\n",
    "    \n",
    "    workbook = writer.book\n",
    "    format = workbook.add_format({'bg_color': '#FDE9D9'}) # use #FDE9D9\n",
    "    worksheet = writer.sheets[sheet]\n",
    "    \n",
    "    # select columns to colour\n",
    "    # note: at time of running, test reports only have \"status of cleanup\" and \"completion date\" as common columns\n",
    "    cols = ['Remarks','Action Required','Action Team','Status of Cleanup','Completion Date','Valid Exception']\n",
    "    \n",
    "    # apply colour to each column\n",
    "    for col in cols:\n",
    "        col_num = result.columns.get_loc(col)\n",
    "        worksheet.set_column(col_num, col_num, 20, format)\n",
    "    \n",
    "\n",
    "writer.save()"
   ]
  },
  {
   "cell_type": "code",
   "execution_count": null,
   "id": "6b45afc6",
   "metadata": {},
   "outputs": [],
   "source": [
    "print('Completed.')"
   ]
  }
 ],
 "metadata": {
  "kernelspec": {
   "display_name": "Python 3",
   "language": "python",
   "name": "python3"
  },
  "language_info": {
   "codemirror_mode": {
    "name": "ipython",
    "version": 3
   },
   "file_extension": ".py",
   "mimetype": "text/x-python",
   "name": "python",
   "nbconvert_exporter": "python",
   "pygments_lexer": "ipython3",
   "version": "3.8.8"
  }
 },
 "nbformat": 4,
 "nbformat_minor": 5
}
