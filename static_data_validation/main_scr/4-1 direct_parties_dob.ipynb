{
 "cells": [
  {
   "cell_type": "code",
   "execution_count": null,
   "id": "0608d131",
   "metadata": {},
   "outputs": [],
   "source": [
    "# import libraries\n",
    "import pandas as pd\n",
    "pd.set_option('display.max_columns', None)\n",
    "\n",
    "import datetime as dt"
   ]
  },
  {
   "cell_type": "code",
   "execution_count": null,
   "id": "8b97954a",
   "metadata": {},
   "outputs": [],
   "source": [
    "today = dt.datetime.now()\n",
    "year = today.year"
   ]
  },
  {
   "cell_type": "code",
   "execution_count": null,
   "id": "19e03bac",
   "metadata": {},
   "outputs": [],
   "source": [
    "# get file paths\n",
    "curr_filepath = input('input file location of report 4-1: ') #\n",
    "prev_filepath = input('input file location of previous report: ') #"
   ]
  },
  {
   "cell_type": "code",
   "execution_count": null,
   "id": "bf65c255",
   "metadata": {
    "scrolled": true
   },
   "outputs": [],
   "source": [
    "# read in data\n",
    "df_curr = pd.read_excel(curr_filepath) # report 4-1\n",
    "df_prev = pd.read_excel(prev_filepath) # previous report"
   ]
  },
  {
   "cell_type": "code",
   "execution_count": null,
   "id": "34e90c75",
   "metadata": {},
   "outputs": [],
   "source": [
    "# create text file for links used\n",
    "with open('direct_party_dob-doi.txt', 'w') as f:\n",
    "    f.write('Current Report path: ' + curr_filepath)\n",
    "    f.write('\\nPrevious Report path: ' + prev_filepath)\n",
    "f.close()"
   ]
  },
  {
   "cell_type": "code",
   "execution_count": null,
   "id": "ab9c0297",
   "metadata": {},
   "outputs": [],
   "source": [
    "df_curr['Batch'] = input('input batch number (eg. 2023 Q3): ')"
   ]
  },
  {
   "cell_type": "code",
   "execution_count": null,
   "id": "6124652a",
   "metadata": {},
   "outputs": [],
   "source": [
    "df_curr[['Remarks','Action Required','Action Team','Status of Cleanup','Completion Date','Valid Exception']] = \"\""
   ]
  },
  {
   "cell_type": "code",
   "execution_count": null,
   "id": "d271202e",
   "metadata": {},
   "outputs": [],
   "source": [
    "df_prev['Date of Birth']  = pd.to_datetime(df_prev['Date of Birth'], format='%Y-%m-%d', errors='coerce').dt.date\n",
    "df_prev['Date of Incorporation']  = pd.to_datetime(df_prev['Date of Incorporation'], format='%Y-%m-%d', errors='coerce').dt.date\n",
    "\n",
    "df_prev['dob_year'] = df_prev['Date of Birth'].apply(lambda x: x.year)\n",
    "df_prev['doi_year'] = df_prev['Date of Incorporation'].apply(lambda x: x.year)"
   ]
  },
  {
   "cell_type": "code",
   "execution_count": null,
   "id": "923b7bcb",
   "metadata": {},
   "outputs": [],
   "source": [
    "df_curr['Date of Birth']  = pd.to_datetime(df_curr['Date of Birth'], format='%Y-%m-%d', errors='coerce').dt.date\n",
    "df_curr['Date of Incorporation']  = pd.to_datetime(df_curr['Date of Incorporation'], format='%Y-%m-%d', errors='coerce').dt.date\n",
    "\n",
    "df_curr['dob_year'] = df_curr['Date of Birth'].apply(lambda x: x.year)\n",
    "df_curr['doi_year'] = df_curr['Date of Incorporation'].apply(lambda x: x.year)"
   ]
  },
  {
   "cell_type": "code",
   "execution_count": null,
   "id": "34ddfa25",
   "metadata": {},
   "outputs": [],
   "source": [
    "df_prev['key'] = df_prev['Portfolio Number'].astype('str') + df_prev['Party ID'].astype('str')\n",
    "df_curr['key'] = df_curr['Portfolio Number'].astype('str') + df_curr['Party ID'].astype('str')"
   ]
  },
  {
   "cell_type": "code",
   "execution_count": null,
   "id": "c3392a1b",
   "metadata": {},
   "outputs": [],
   "source": [
    "# filter active status\n",
    "df_curr = df_curr[df_curr['Current Status'] == 'Active']"
   ]
  },
  {
   "cell_type": "code",
   "execution_count": null,
   "id": "c8382af7",
   "metadata": {},
   "outputs": [],
   "source": [
    "#filter dob/doi\n",
    "df_curr = df_curr[(year-df_curr['dob_year']>100) | (year-df_curr['doi_year']>100)]\n",
    "df_prev = df_prev[(year-df_prev['dob_year']>100) | (year-df_prev['doi_year']>100)]"
   ]
  },
  {
   "cell_type": "code",
   "execution_count": null,
   "id": "8618d817",
   "metadata": {},
   "outputs": [],
   "source": [
    "# identify parties that appeared in previous report\n",
    "prev_parties = df_prev['key'].tolist()"
   ]
  },
  {
   "cell_type": "code",
   "execution_count": null,
   "id": "31fac3ff",
   "metadata": {},
   "outputs": [],
   "source": [
    "# identify parties that appear in current report\n",
    "curr_parties = df_curr['key'].tolist()"
   ]
  },
  {
   "cell_type": "code",
   "execution_count": null,
   "id": "41b21c9c",
   "metadata": {},
   "outputs": [],
   "source": [
    "# list of parties that appear in both previous and current report (unresolved or exceptions)\n",
    "both_parties = set(prev_parties).intersection(set(curr_parties))"
   ]
  },
  {
   "cell_type": "code",
   "execution_count": null,
   "id": "3d8b0d46",
   "metadata": {},
   "outputs": [],
   "source": [
    "# list of new parties that appear only in the current report\n",
    "new_parties = set(curr_parties).difference(set(prev_parties))"
   ]
  },
  {
   "cell_type": "code",
   "execution_count": null,
   "id": "d6d9731c",
   "metadata": {},
   "outputs": [],
   "source": [
    "# total unresolved = old unresolved (both_parties) and new unresolved (new_parties)\n",
    "df_curr = df_curr[(df_curr['key'].isin(both_parties)) | (df_curr['key'].isin(new_parties))]"
   ]
  },
  {
   "cell_type": "code",
   "execution_count": null,
   "id": "23a3500a",
   "metadata": {},
   "outputs": [],
   "source": [
    "#append df_prev['key'].isin(both_parties) and df_curr['key'].isin(new_parties)\n",
    "df = pd.concat([df_prev[df_prev['key'].isin(both_parties)], df_curr[df_curr['key'].isin(new_parties)]])"
   ]
  },
  {
   "cell_type": "code",
   "execution_count": null,
   "id": "7091e40d",
   "metadata": {},
   "outputs": [],
   "source": [
    "# drop extra columns, rearrange columns\n",
    "df = df.drop(columns=['dob_year','doi_year', 'key'])\n",
    "\n",
    "df = df[['Batch', 'Remarks','Action Required','Action Team','Status of Cleanup','Completion Date','Valid Exception',\n",
    "                   'Portfolio Number', 'Portfolio Name', 'Current Status', 'Relationship Type', 'Relationship Sub-Type', \n",
    "                   'RM Name', 'RM Location Name', 'RM Team Name', 'Booking Center Officer Name','Managed By EAM / EIA / Finder',\n",
    "                   'EAM / EIA Name', 'Finder Name','Portfolio Opening Date', 'Relationship (Party Role)', 'Party Name',\n",
    "                   'Party Type', 'Party ID', 'Is Public', 'Date of Birth','Date of Incorporation']]"
   ]
  },
  {
   "cell_type": "code",
   "execution_count": null,
   "id": "c8eb0ea9",
   "metadata": {},
   "outputs": [],
   "source": [
    "# print to excel\n",
    "df.to_excel('direct_party_dob-doi.xlsx', index=False)"
   ]
  }
 ],
 "metadata": {
  "kernelspec": {
   "display_name": "Python 3",
   "language": "python",
   "name": "python3"
  },
  "language_info": {
   "codemirror_mode": {
    "name": "ipython",
    "version": 3
   },
   "file_extension": ".py",
   "mimetype": "text/x-python",
   "name": "python",
   "nbconvert_exporter": "python",
   "pygments_lexer": "ipython3",
   "version": "3.8.8"
  }
 },
 "nbformat": 4,
 "nbformat_minor": 5
}
