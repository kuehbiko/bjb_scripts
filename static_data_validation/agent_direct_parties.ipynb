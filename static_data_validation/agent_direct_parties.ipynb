{
 "cells": [
  {
   "cell_type": "code",
   "execution_count": 1,
   "id": "0608d131",
   "metadata": {},
   "outputs": [],
   "source": [
    "# import libraries\n",
    "import pandas as pd"
   ]
  },
  {
   "cell_type": "code",
   "execution_count": 2,
   "id": "bf65c255",
   "metadata": {},
   "outputs": [],
   "source": [
    "# read in data\n",
    "df = pd.read_excel('Daily_Recurring_ID_Doc_Expiry_Party_to_Portfolio-202308100600.xlsx')"
   ]
  },
  {
   "cell_type": "code",
   "execution_count": 3,
   "id": "c3392a1b",
   "metadata": {},
   "outputs": [],
   "source": [
    "# filters\n",
    "df = df[df['Current Status'] == 'Active']"
   ]
  },
  {
   "cell_type": "code",
   "execution_count": 5,
   "id": "96796ced",
   "metadata": {},
   "outputs": [],
   "source": [
    "# EAM\n",
    "eam_df = df[(df['EAM/EIA/Finder'] == 'EAM') & \n",
    "            (~df['Relationship (Party Role)'].isna())]\n",
    "\n",
    "# EIA\n",
    "eia_df = df[(df['EAM/EIA/Finder'] == 'EIA') & \n",
    "            (~df['Relationship (Party Role)'].isna())]\n",
    "\n",
    "# Finder/Collab\n",
    "fincol_df = df[((df['EAM/EIA/Finder'] == 'Finder') | \n",
    "                (df['EAM/EIA/Finder'] == 'Collaboration Partner')\n",
    "               ) &\n",
    "               (df['Relationship (Party Role)'].notnull())]"
   ]
  },
  {
   "cell_type": "code",
   "execution_count": 6,
   "id": "dbd20822",
   "metadata": {},
   "outputs": [],
   "source": [
    "# join back into 1 dataset\n",
    "final_df = pd.concat([eam_df,eia_df,fincol_df], axis=0)"
   ]
  },
  {
   "cell_type": "code",
   "execution_count": 7,
   "id": "c8eb0ea9",
   "metadata": {},
   "outputs": [],
   "source": [
    "# remember to output to excel\n",
    "final_df.to_excel('agent_as_direct_party.xlsx')"
   ]
  }
 ],
 "metadata": {
  "kernelspec": {
   "display_name": "Python 3",
   "language": "python",
   "name": "python3"
  },
  "language_info": {
   "codemirror_mode": {
    "name": "ipython",
    "version": 3
   },
   "file_extension": ".py",
   "mimetype": "text/x-python",
   "name": "python",
   "nbconvert_exporter": "python",
   "pygments_lexer": "ipython3",
   "version": "3.8.8"
  }
 },
 "nbformat": 4,
 "nbformat_minor": 5
}
