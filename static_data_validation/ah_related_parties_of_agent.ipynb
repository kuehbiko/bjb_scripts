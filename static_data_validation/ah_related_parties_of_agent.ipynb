{
 "cells": [
  {
   "cell_type": "code",
   "execution_count": 1,
   "id": "aa4efce6",
   "metadata": {},
   "outputs": [],
   "source": [
    "# import libraries\n",
    "import pandas as pd\n",
    "import warnings\n",
    "warnings.simplefilter(\"ignore\")"
   ]
  },
  {
   "cell_type": "code",
   "execution_count": null,
   "id": "4214b3ee",
   "metadata": {},
   "outputs": [],
   "source": [
    "# read data\n",
    "df_party2port = pd.read_excel('Daily_Recurring_ID_Doc_Expiry_Party_to_Portfolio-202308100600.xlsx')\n",
    "df_party2party = pd.read_excel('Daily_Recurring_ID_Doc_Expiry_Party_to_Party-202308100600.xlsx')"
   ]
  },
  {
   "cell_type": "code",
   "execution_count": 3,
   "id": "d461d560",
   "metadata": {},
   "outputs": [],
   "source": [
    "relationship_list = ['Company (of Director)', \n",
    "                     'Director',\n",
    "                     'Company (of Shareholder)',\n",
    "                     'Shareholder',\n",
    "                     'Foundation | Trust (of Protector)',\n",
    "                     'Protector',\n",
    "                     'Company (of Signatory)',\n",
    "                     'Signatory',\n",
    "                     'Trust (of Trustee)'\n",
    "                     'Trustee']\n",
    "\n",
    "agent_list = ['EAM', 'EIA', 'Finder', 'Collaboration Partner']\n",
    "\n",
    "temp_df = df_party2party.copy()\n",
    "\n",
    "temp_df = temp_df[(temp_df['Relationship Type'].isin(relationship_list)) &\n",
    "                  (temp_df['EAM/EIA/Finder'].isin(agent_list))]\n",
    "\n",
    "temp_df = temp_df[temp_df['Is Relationship Active'] == 'Yes']"
   ]
  },
  {
   "cell_type": "code",
   "execution_count": 10,
   "id": "f735efc3",
   "metadata": {},
   "outputs": [],
   "source": [
    "temp_df = temp_df.rename(columns = {'Party ID 2' :'Party ID'})\n",
    "df = pd.merge(df_party2port, temp_df, on = 'Party ID')"
   ]
  },
  {
   "cell_type": "code",
   "execution_count": 12,
   "id": "38fdbdee",
   "metadata": {},
   "outputs": [],
   "source": [
    "df.to_excel('related parties of agents as direct parties to portfolios.xlsx')"
   ]
  }
 ],
 "metadata": {
  "kernelspec": {
   "display_name": "Python 3",
   "language": "python",
   "name": "python3"
  },
  "language_info": {
   "codemirror_mode": {
    "name": "ipython",
    "version": 3
   },
   "file_extension": ".py",
   "mimetype": "text/x-python",
   "name": "python",
   "nbconvert_exporter": "python",
   "pygments_lexer": "ipython3",
   "version": "3.8.8"
  }
 },
 "nbformat": 4,
 "nbformat_minor": 5
}
