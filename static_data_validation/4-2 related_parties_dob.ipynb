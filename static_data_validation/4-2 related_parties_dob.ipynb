{
 "cells": [
  {
   "cell_type": "code",
   "execution_count": null,
   "id": "aa4efce6",
   "metadata": {},
   "outputs": [],
   "source": [
    "# import libraries\n",
    "import pandas as pd\n",
    "pd.set_option('display.max_columns', None)\n",
    "import datetime as dt\n",
    "import warnings\n",
    "warnings.simplefilter(\"ignore\")"
   ]
  },
  {
   "cell_type": "code",
   "execution_count": null,
   "id": "a9c33c45",
   "metadata": {},
   "outputs": [],
   "source": [
    "today = dt.datetime.now()\n",
    "year = today.year"
   ]
  },
  {
   "cell_type": "code",
   "execution_count": null,
   "id": "d8724e4a",
   "metadata": {},
   "outputs": [],
   "source": [
    "# get file paths\n",
    "party2port = input('please input file location of report 4-2A: ') # ../data_and_output/110817/R4_2_A_Report.xlsx\n",
    "party2party = input('please input file location of report 4-2B: ') # ../data_and_output/110817/R4_2_B_Report.xlsx\n",
    "prev = input('please input file location of previous quarter\\'s report: ') # #../data_and_output/4-2 related_master_q3.xlsx"
   ]
  },
  {
   "cell_type": "code",
   "execution_count": null,
   "id": "4214b3ee",
   "metadata": {},
   "outputs": [],
   "source": [
    "# read data\n",
    "df_party2party = pd.read_excel(party2port) # report 4-2a\n",
    "df_party2port = pd.read_excel(party2party) # report 4-2b\n",
    "df_prev = pd.read_excel(prev) # previous report"
   ]
  },
  {
   "cell_type": "code",
   "execution_count": null,
   "id": "df113722",
   "metadata": {},
   "outputs": [],
   "source": [
    "# merge 4-2a and 4-2b to identify related parties that are tagged to direct parties with active portfolios\n",
    "# 4-2a: direct party -> related party\n",
    "# 4-2b: active portfolio -> direct party\n",
    "# link: active portfolio -> (direct party) -> related party\n",
    "# columns: 4-2b.portfolio_number -> 4-2b.party_id <-> 4-2a.party_id1 -> 4-2a.party_id2\n",
    "\n",
    "df_curr = df_party2port.merge(df_party2party,\n",
    "                              how='inner',\n",
    "                              left_on='Party ID', right_on='Party ID 1',\n",
    "                              suffixes=('_4-2b', '_4-2a'))"
   ]
  },
  {
   "cell_type": "code",
   "execution_count": null,
   "id": "f60eb846",
   "metadata": {},
   "outputs": [],
   "source": [
    "# rename columns\n",
    "df_curr = df_curr.rename(columns={'Party ID': 'Direct Party ID',\n",
    "                                  'Party Status (CRM)': 'Direct Party Status (CRM)',\n",
    "                                  'Is Public_4-2a': 'Direct Party Is Public',\n",
    "                                  'Relationship Type_4-2a': 'Relationship Type to Direct Party',\n",
    "                                  'Party ID 2': 'Related Party ID',\n",
    "                                  'Party Name_4-2a': 'Related Party Name',\n",
    "                                  'Party Type_4-2a': 'Related Party Type',\n",
    "                                  'Date of Incorporation_4-2a': 'Related Party Date of Incorporation',\n",
    "                                  'Date of Birth_4-2a': 'Related Party Date of Birth',\n",
    "                                  'Party Status (CRM).1': 'Related Party Status (CRM)',\n",
    "                                  'EAM/EIA/Finder': 'Related Party Agent Type'})"
   ]
  },
  {
   "cell_type": "code",
   "execution_count": null,
   "id": "d52a2b17",
   "metadata": {},
   "outputs": [],
   "source": [
    "# columns to drop \n",
    "df_curr = df_curr.drop(columns=['Portfolio Name',\n",
    "                                'Portfolio Number',\n",
    "                                'Current Status',\n",
    "                                'Portfolio Creation Date',\n",
    "                                'Relationship Type_4-2b',\n",
    "                                'Relationship Sub-Type',\n",
    "                                'RM Name',\n",
    "                                'RM Location Name',\n",
    "                                'RM Team Name',\n",
    "                                'Booking Center Officer Name',\n",
    "                                'Managed By EAM / EIA / Finder',\n",
    "                                'EAM / EIA Name',\n",
    "                                'Finder Name',\n",
    "                                'Relationship (Party Role)',\n",
    "                                'Party Name_4-2b',\n",
    "                                'Party Type_4-2b',\n",
    "                                'Is Public_4-2b',\n",
    "                                'Date of Birth_4-2b',\n",
    "                                'Date of Incorporation_4-2b',\n",
    "                                'Party ID 1'])"
   ]
  },
  {
   "cell_type": "code",
   "execution_count": null,
   "id": "aa0de376",
   "metadata": {},
   "outputs": [],
   "source": [
    "df_curr['Batch'] = input('input batch (eg. 2023 Q4): ')"
   ]
  },
  {
   "cell_type": "code",
   "execution_count": null,
   "id": "ee5c1d78",
   "metadata": {},
   "outputs": [],
   "source": [
    "df_curr[['Remarks','Action Required','Action Team','Status of Cleanup','Completion Date','Valid Exception']] = \"\""
   ]
  },
  {
   "cell_type": "code",
   "execution_count": null,
   "id": "3478bd7c",
   "metadata": {},
   "outputs": [],
   "source": [
    "df_curr['Related Party Date of Birth']  = pd.to_datetime(df_curr['Related Party Date of Birth'], format='%Y-%m-%d', errors='coerce').dt.date\n",
    "df_curr['Related Party Date of Incorporation']  = pd.to_datetime(df_curr['Related Party Date of Incorporation'], format='%Y-%m-%d', errors='coerce').dt.date\n",
    "\n",
    "df_curr['dob_year'] = df_curr['Related Party Date of Birth'].apply(lambda x: x.year)\n",
    "df_curr['doi_year'] = df_curr['Related Party Date of Incorporation'].apply(lambda x: x.year)"
   ]
  },
  {
   "cell_type": "code",
   "execution_count": null,
   "id": "5a330c14",
   "metadata": {},
   "outputs": [],
   "source": [
    "df_prev['Related Party Date of Birth']  = pd.to_datetime(df_prev['Related Party Date of Birth'], format='%Y-%m-%d', errors='coerce').dt.date\n",
    "df_prev['Related Party Date of Incorporation']  = pd.to_datetime(df_prev['Related Party Date of Incorporation'], format='%Y-%m-%d', errors='coerce').dt.date\n",
    "\n",
    "df_prev['dob_year'] = df_prev['Related Party Date of Birth'].apply(lambda x: x.year)\n",
    "df_prev['doi_year'] = df_prev['Related Party Date of Incorporation'].apply(lambda x: x.year)"
   ]
  },
  {
   "cell_type": "code",
   "execution_count": null,
   "id": "a5857627",
   "metadata": {},
   "outputs": [],
   "source": [
    "df_curr['key'] = df_curr['Direct Party ID'].astype('str') + df_curr['Related Party ID'].astype('str') + df_curr['Relationship Type to Direct Party'].astype('str')\n",
    "df_prev['key'] = df_prev['Direct Party ID'].astype('str') + df_prev['Related Party ID'].astype('str') + df_prev['Relationship Type to Direct Party'].astype('str')"
   ]
  },
  {
   "cell_type": "code",
   "execution_count": null,
   "id": "4dbe75ab",
   "metadata": {},
   "outputs": [],
   "source": [
    "# filters curr\n",
    "df_curr = df_curr[df_curr['Is Relationship Active']=='Yes']\n",
    "\n",
    "relationship_list = ['Company (of Director)', 'Director','Company (of Shareholder)', 'Shareholder',\n",
    "                     'Foundation | Trust (of Protector)', 'Protector','Company (of Signatory)', 'Signatory',\n",
    "                     'Trust (of Trustee)', 'Trustee']\n",
    "df_curr = df_curr[df_curr['Relationship Type to Direct Party'].isin(relationship_list)]"
   ]
  },
  {
   "cell_type": "code",
   "execution_count": null,
   "id": "b9011d35",
   "metadata": {},
   "outputs": [],
   "source": [
    "# filters prev\n",
    "df_prev = df_prev[df_prev['Is Relationship Active']=='Yes']\n",
    "\n",
    "relationship_list = ['Company (of Director)', 'Director','Company (of Shareholder)', 'Shareholder',\n",
    "                     'Foundation | Trust (of Protector)', 'Protector','Company (of Signatory)', 'Signatory',\n",
    "                     'Trust (of Trustee)', 'Trustee']\n",
    "df_prev = df_prev[df_prev['Relationship Type to Direct Party'].isin(relationship_list)]"
   ]
  },
  {
   "cell_type": "code",
   "execution_count": null,
   "id": "7795c246",
   "metadata": {},
   "outputs": [],
   "source": [
    "#filter dob/doi\n",
    "df_curr = df_curr[(year-df_curr['dob_year']>100) | (year-df_curr['doi_year']>100)]\n",
    "df_prev = df_prev[(year-df_prev['dob_year']>100) | (year-df_prev['doi_year']>100)]"
   ]
  },
  {
   "cell_type": "code",
   "execution_count": null,
   "id": "eb0e9d39",
   "metadata": {},
   "outputs": [],
   "source": [
    "df_curr = df_curr.drop_duplicates()\n",
    "df_prev = df_prev.drop_duplicates()"
   ]
  },
  {
   "cell_type": "code",
   "execution_count": null,
   "id": "c1a72c97",
   "metadata": {},
   "outputs": [],
   "source": [
    "# at this point we have finished preparing the current report\n",
    "# now merge with the records in the previous report"
   ]
  },
  {
   "cell_type": "code",
   "execution_count": null,
   "id": "af423a78",
   "metadata": {},
   "outputs": [],
   "source": [
    "# identify parties that appeared in previous report\n",
    "prev_parties = df_prev['key'].tolist()"
   ]
  },
  {
   "cell_type": "code",
   "execution_count": null,
   "id": "3a893cc0",
   "metadata": {},
   "outputs": [],
   "source": [
    "# identify parties that appear in current report\n",
    "curr_parties = df_curr['key'].tolist()"
   ]
  },
  {
   "cell_type": "code",
   "execution_count": null,
   "id": "1f4de02b",
   "metadata": {},
   "outputs": [],
   "source": [
    "# list of parties that appear in both previous and current report (unresolved or exceptions)\n",
    "both_parties = set(prev_parties).intersection(set(curr_parties))"
   ]
  },
  {
   "cell_type": "code",
   "execution_count": null,
   "id": "2a07b56c",
   "metadata": {},
   "outputs": [],
   "source": [
    "# list of new parties that appear only in the current report\n",
    "new_parties = set(curr_parties).difference(set(prev_parties))"
   ]
  },
  {
   "cell_type": "code",
   "execution_count": null,
   "id": "ca13f785",
   "metadata": {},
   "outputs": [],
   "source": [
    "# total unresolved = old unresolved (both_parties) and new unresolved (new_parties)\n",
    "df_curr = df_curr[(df_curr['key'].isin(both_parties)) | (df_curr['key'].isin(new_parties))]"
   ]
  },
  {
   "cell_type": "code",
   "execution_count": null,
   "id": "9d6134fb",
   "metadata": {},
   "outputs": [],
   "source": [
    "df_curr['key'].head()"
   ]
  },
  {
   "cell_type": "code",
   "execution_count": null,
   "id": "7d49086d",
   "metadata": {},
   "outputs": [],
   "source": [
    "cols = ['Batch', 'Remarks','Action Required','Action Team','Status of Cleanup','Completion Date','Valid Exception']\n",
    "for col in cols:\n",
    "    for key in both_parties:\n",
    "        df_curr.loc[df_curr['key']==key,col] = df_prev.loc[df_prev['key']==key,col].tolist()"
   ]
  },
  {
   "cell_type": "code",
   "execution_count": null,
   "id": "98c05357",
   "metadata": {},
   "outputs": [],
   "source": [
    "df_curr['Batch'].value_counts()"
   ]
  },
  {
   "cell_type": "code",
   "execution_count": null,
   "id": "60e5c9c5",
   "metadata": {},
   "outputs": [],
   "source": [
    "# drop extra columns, rearrange columns\n",
    "df_curr = df_curr.drop(columns=['dob_year','doi_year', 'key'])\n",
    "\n",
    "df_curr = df_curr[['Batch', 'Remarks','Action Required','Action Team','Status of Cleanup','Completion Date','Valid Exception',\n",
    "                   'Direct Party ID', 'Direct Party Status (CRM)','Direct Party Is Public', 'Is Relationship Active',\n",
    "                   'Relationship Effective Start Date', 'Relationship Effective End Date','Relationship Type to Direct Party', \n",
    "                   'Related Party ID', 'Related Party Name', 'Related Party Type', 'Related Party Date of Incorporation', \n",
    "                   'Related Party Date of Birth','Related Party Status (CRM)', 'Related Party Agent Type', ]]\n",
    "\n",
    "df_curr = df_curr.sort_values(by='Batch')"
   ]
  },
  {
   "cell_type": "code",
   "execution_count": null,
   "id": "d2d4817f",
   "metadata": {},
   "outputs": [],
   "source": [
    "# print to excel\n",
    "df_curr.to_excel('related_party_dob-doi.xlsx', index=False)"
   ]
  }
 ],
 "metadata": {
  "kernelspec": {
   "display_name": "Python 3",
   "language": "python",
   "name": "python3"
  },
  "language_info": {
   "codemirror_mode": {
    "name": "ipython",
    "version": 3
   },
   "file_extension": ".py",
   "mimetype": "text/x-python",
   "name": "python",
   "nbconvert_exporter": "python",
   "pygments_lexer": "ipython3",
   "version": "3.8.8"
  }
 },
 "nbformat": 4,
 "nbformat_minor": 5
}
