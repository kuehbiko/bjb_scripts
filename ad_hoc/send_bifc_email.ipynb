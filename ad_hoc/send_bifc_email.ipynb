{
 "cells": [
  {
   "cell_type": "markdown",
   "id": "8a7c0489",
   "metadata": {},
   "source": [
    "## The BIFC Portfolio Closed Send Mail-inator\n",
    "How to use this notebook: \n",
    "1) Click 'Restart and Run All Cells' (fast forward button in the menubar above)\\\n",
    "2) Enter the Portfolio Number of the new account when prompted\\\n",
    "3) ???\\\n",
    "4) Profit"
   ]
  },
  {
   "cell_type": "code",
   "execution_count": 1,
   "id": "16c01966",
   "metadata": {},
   "outputs": [],
   "source": [
    "import win32com.client\n",
    "import os"
   ]
  },
  {
   "cell_type": "code",
   "execution_count": null,
   "id": "fa053d8e",
   "metadata": {},
   "outputs": [],
   "source": [
    "portfolio = input(\"Enter Portfolio Number: \")"
   ]
  },
  {
   "cell_type": "code",
   "execution_count": 3,
   "id": "d54a8812",
   "metadata": {},
   "outputs": [],
   "source": [
    "subject = 'Portfolio Closure ' + portfolio\n",
    "recipient = '' #\n",
    "copied = ''\n",
    "body = \"Hi All, \\\n",
    "        <br><br>Portfolio has been closed. \\\n",
    "        <br>You may retrieve the closing letter via eDelivery Portfolio Letters in Doxter. \\\n",
    "        <br>Saved Searches -> Search Templates -> E-Delivery Portfolio Letters -> Input Account Number -> Click Search -> Closure of Account \\\n",
    "        <br><br>Regards, \\\n",
    "        <br>DM - S\""
   ]
  },
  {
   "cell_type": "code",
   "execution_count": 4,
   "id": "794130a0",
   "metadata": {},
   "outputs": [],
   "source": [
    "def sendEmail(recipient, copied, subject, body):\n",
    "    #Create and send email\n",
    "    olMailItem = 0x0\n",
    "    obj = win32com.client.Dispatch(\"Outlook.Application\")\n",
    "    newMail = obj.CreateItem(olMailItem)\n",
    "    newMail.To = recipient\n",
    "    newMail.CC = copied\n",
    "    newMail.Subject = subject\n",
    "    newMail.HTMLBody  = body\n",
    "\n",
    "    newMail.display()\n",
    "\n",
    "    #newMail.Send() #Do NOT uncomment or the mail will send automatically"
   ]
  },
  {
   "cell_type": "code",
   "execution_count": 5,
   "id": "63e78809",
   "metadata": {},
   "outputs": [],
   "source": [
    "if len(portfolio) == 10: #Do a super cursory check before running the script\n",
    "    sendEmail(recipient, copied, subject, body)\n",
    "else:\n",
    "    print(\"Invalid portfolio number. Please rerun script.\")"
   ]
  }
 ],
 "metadata": {
  "kernelspec": {
   "display_name": "Python 3",
   "language": "python",
   "name": "python3"
  },
  "language_info": {
   "codemirror_mode": {
    "name": "ipython",
    "version": 3
   },
   "file_extension": ".py",
   "mimetype": "text/x-python",
   "name": "python",
   "nbconvert_exporter": "python",
   "pygments_lexer": "ipython3",
   "version": "3.8.8"
  }
 },
 "nbformat": 4,
 "nbformat_minor": 5
}
