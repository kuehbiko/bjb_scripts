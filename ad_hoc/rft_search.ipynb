{
 "cells": [
  {
   "cell_type": "code",
   "execution_count": 1,
   "id": "1a831334",
   "metadata": {},
   "outputs": [],
   "source": [
    "import os\n",
    "import pandas as pd"
   ]
  },
  {
   "cell_type": "code",
   "execution_count": null,
   "id": "f6f33d7c",
   "metadata": {},
   "outputs": [],
   "source": [
    "tag_input = input(\"Enter Tag ID: \") #Input in the forms: SGTAG-00xxx, 00xxx or xxx"
   ]
  },
  {
   "cell_type": "code",
   "execution_count": null,
   "id": "553aee8e",
   "metadata": {},
   "outputs": [],
   "source": [
    "config_file = pd.read_excel(\"DDM Copy.xlsx\", \"Tag Table\", usecols=\"A,C\")\n",
    "tag_id = config_file[\"Tag ID\"]\n",
    "tag_reason = config_file[\"Tag Message\"]"
   ]
  },
  {
   "cell_type": "code",
   "execution_count": null,
   "id": "eae776eb",
   "metadata": {},
   "outputs": [],
   "source": [
    "def copy_to_clipboard(text): #function to auto-copy output to clipboard\n",
    "    command = 'echo ' + text.strip() + '| clip'\n",
    "    os.system(command)\n",
    "    \n",
    "def reason_for_tagging(tag_input): #function to find tag message\n",
    "    tag_input = str(tag_input).upper()\n",
    "    for i in range(len(tag_id)):\n",
    "        if tag_input in tag_id[i]:\n",
    "            #True if Tag exists\n",
    "            if pd.isnull(tag_reason[i]):\n",
    "                #true if tag message is blank    \n",
    "                return tag_id[i] + \"\\n\\n<This tag ID has no tag message.>\" \n",
    "            copy_to_clipboard(tag_reason[i]) #calls auto-copy function\n",
    "            return tag_id[i] + '\\n' + tag_reason[i] + \"\\n\\n<This tag message has been copied to your clipboard!>\"\n",
    "            break\n",
    "        else:\n",
    "            continue\n",
    "    return tag_ID + '\\n' + \"\\n\\n<This tag ID does not exist.>\""
   ]
  },
  {
   "cell_type": "code",
   "execution_count": null,
   "id": "705d69a3",
   "metadata": {
    "scrolled": false
   },
   "outputs": [],
   "source": [
    "print(reason_for_tagging(tag_input))"
   ]
  }
 ],
 "metadata": {
  "kernelspec": {
   "display_name": "Python 3",
   "language": "python",
   "name": "python3"
  },
  "language_info": {
   "codemirror_mode": {
    "name": "ipython",
    "version": 3
   },
   "file_extension": ".py",
   "mimetype": "text/x-python",
   "name": "python",
   "nbconvert_exporter": "python",
   "pygments_lexer": "ipython3",
   "version": "3.8.8"
  }
 },
 "nbformat": 4,
 "nbformat_minor": 5
}
