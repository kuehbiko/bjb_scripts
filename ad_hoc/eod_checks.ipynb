{
 "cells": [
  {
   "cell_type": "code",
   "execution_count": 1,
   "id": "444e55d5",
   "metadata": {},
   "outputs": [],
   "source": [
    "#Import modules\n",
    "import os\n",
    "import datetime"
   ]
  },
  {
   "cell_type": "code",
   "execution_count": 2,
   "id": "a8ca6427",
   "metadata": {},
   "outputs": [],
   "source": [
    "#Setup\n",
    "base = datetime.datetime.today()\n",
    "yyyy = base.strftime(\"%Y\")\n",
    "mmm_yyyy = base.strftime(\"%b %Y\").upper()\n",
    "dd_mmm_yyyy = base.strftime(\"%d %b %Y\")"
   ]
  },
  {
   "cell_type": "code",
   "execution_count": 3,
   "id": "2d2a68a0",
   "metadata": {},
   "outputs": [],
   "source": [
    "#Get the list of all folders (excl: BOT Checker, Daily Reports, Dormant, Retagging, VC Rprt, Z)\n",
    "folder_list = ['AGENT',\n",
    "               'CIP',\n",
    "               'COUNTERPARTY',\n",
    "               'NAME SEARCHES',\n",
    "               'NEW PORTFOLIO OPENING',\n",
    "               'PORTFOLIO CLOSURE',\n",
    "               'PRICING',\n",
    "               'SERVICE TERMINATION',\n",
    "               'STATIC MAINTENANCE OTHERS',\n",
    "               'SWITCH OF SERVICE MODEL']\n",
    "temp = [f\"/WFH/{folder_name}/{yyyy}/{mmm_yyyy}/{dd_mmm_yyyy}\" for folder_name in folder_list]\n",
    "path_list = []\n",
    "\n",
    "#Check if each folder path exists\n",
    "for path in temp:\n",
    "    if os.path.isdir(path):\n",
    "        path_list.append(path)\n",
    "    else:\n",
    "        continue\n",
    "\n",
    "#Compiles a list of all tasks that are not checked\n",
    "for path in path_list:\n",
    "    print(f\"\\nPath: {path}\")\n",
    "    unchecked = []\n",
    "    checked = []\n",
    "    tasks = os.listdir(path) #Creates a list of all the folder names within that particular folder\n",
    "    \n",
    "    for task_name in tasks:\n",
    "        if 'checked' in task_name:\n",
    "            checked.append(task_name)\n",
    "        else:\n",
    "            unchecked.append(task_name)\n",
    "    \n",
    "    print('UNCHECKED:')\n",
    "    print(*unchecked, sep='\\n')"
   ]
  }
 ],
 "metadata": {
  "kernelspec": {
   "display_name": "Python 3",
   "language": "python",
   "name": "python3"
  },
  "language_info": {
   "codemirror_mode": {
    "name": "ipython",
    "version": 3
   },
   "file_extension": ".py",
   "mimetype": "text/x-python",
   "name": "python",
   "nbconvert_exporter": "python",
   "pygments_lexer": "ipython3",
   "version": "3.8.8"
  }
 },
 "nbformat": 4,
 "nbformat_minor": 5
}
