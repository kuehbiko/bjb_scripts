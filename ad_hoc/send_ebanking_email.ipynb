{
 "cells": [
  {
   "cell_type": "code",
   "execution_count": 1,
   "id": "dc107b00",
   "metadata": {},
   "outputs": [],
   "source": [
    "import win32com.client\n",
    "import os"
   ]
  },
  {
   "cell_type": "code",
   "execution_count": null,
   "id": "0a2e2eb1",
   "metadata": {},
   "outputs": [],
   "source": [
    "portfolio = input(\"Enter Portfolio Number: \")"
   ]
  },
  {
   "cell_type": "code",
   "execution_count": 3,
   "id": "cec09905",
   "metadata": {},
   "outputs": [],
   "source": [
    "subject = portfolio + ' New Account - FYA on New Ebanking'\n",
    "recipient = ''\n",
    "body = \"Hi Mailing Team, \\\n",
    "        <br><br>FYA. \\\n",
    "        <br><br>Thank you. \\\n",
    "        <br><br>Best Regards, \\\n",
    "        <br>E Lim\""
   ]
  },
  {
   "cell_type": "code",
   "execution_count": 4,
   "id": "b5746028",
   "metadata": {},
   "outputs": [],
   "source": [
    "def sendEmail(recipient, subject, body):\n",
    "    #Create and send email\n",
    "    olMailItem = 0x0\n",
    "    obj = win32com.client.Dispatch(\"Outlook.Application\")\n",
    "    newMail = obj.CreateItem(olMailItem)\n",
    "    newMail.To = recipient\n",
    "    newMail.Subject = subject\n",
    "    newMail.HTMLBody  = body\n",
    "\n",
    "    newMail.display()\n",
    "\n",
    "    #newMail.Send()"
   ]
  },
  {
   "cell_type": "code",
   "execution_count": 5,
   "id": "f09f33f6",
   "metadata": {},
   "outputs": [],
   "source": [
    "if len(portfolio) == 13: #Do a super basic check before running the script\n",
    "    sendEmail(recipient, subject, body)\n",
    "else:\n",
    "    print(\"Invalid portfolio number. Please rerun script.\")"
   ]
  }
 ],
 "metadata": {
  "kernelspec": {
   "display_name": "Python 3",
   "language": "python",
   "name": "python3"
  },
  "language_info": {
   "codemirror_mode": {
    "name": "ipython",
    "version": 3
   },
   "file_extension": ".py",
   "mimetype": "text/x-python",
   "name": "python",
   "nbconvert_exporter": "python",
   "pygments_lexer": "ipython3",
   "version": "3.8.8"
  }
 },
 "nbformat": 4,
 "nbformat_minor": 5
}
