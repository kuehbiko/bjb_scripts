{
 "cells": [
  {
   "cell_type": "markdown",
   "id": "1f7e8c31",
   "metadata": {},
   "source": [
    "## Daily Reports Checker\n",
    "Runs for:\n",
    "- 1. CIP - SG Booked HK RMs \n",
    "- 2. CIP - SG Booked Non-HK RMs\n",
    "- 4. Derivative Reform\n",
    "- 5. Active Accounts with No Pricing\n",
    "- 6. EAM with Double Agreements (Uncertain due to no past test cases - please notify if you come across any issues)\n",
    "- 7. Service Termination Tag (Output depends on tag reason. Some tag reasons may not be standard. Pls check excel file if output has issues.)\n",
    "- 8. Expired Australian Accountant Certificate\n",
    "- 9. T24 (code is wack but it works so...)\n",
    "- 11. VC Block and Unblock\n",
    "- 12. T24 PROD Pricing (not able to open the file through python. if anything is flagged, please open the file manually)\n",
    "\n",
    "Manual checks to be done:\n",
    "- 3. Deviation Report\n",
    "- 10. Non-PI for HKRM accounts\n",
    "\n",
    "Additional functions:\n",
    "- CIP Doxter upload report generation"
   ]
  },
  {
   "cell_type": "code",
   "execution_count": null,
   "id": "18c457be",
   "metadata": {},
   "outputs": [],
   "source": [
    "# import libraries\n",
    "import pandas as pd\n",
    "import numpy as np\n",
    "import datetime as dt\n",
    "import os\n",
    "import warnings\n",
    "warnings.simplefilter(\"ignore\")"
   ]
  },
  {
   "cell_type": "code",
   "execution_count": null,
   "id": "87222a9f",
   "metadata": {},
   "outputs": [],
   "source": [
    "# get inputs\n",
    "file_loc = input(\"Folder path: \")\n",
    "numdays = int(input(\"How many days' worth of reports are you checking?: \"))\n",
    "base = dt.datetime.today()"
   ]
  },
  {
   "cell_type": "markdown",
   "id": "3c8458e4",
   "metadata": {},
   "source": [
    "***"
   ]
  },
  {
   "cell_type": "markdown",
   "id": "666ead04",
   "metadata": {},
   "source": [
    "### 1. CIP - SG Booked HK RMs"
   ]
  },
  {
   "cell_type": "code",
   "execution_count": null,
   "id": "654c2833",
   "metadata": {
    "scrolled": true
   },
   "outputs": [],
   "source": [
    "# 01 cip - sg-booked hk rm\n",
    "%run ./scr/01_cip_hkrm.ipynb\n",
    "cip_hk()"
   ]
  },
  {
   "cell_type": "markdown",
   "id": "00e6e68c",
   "metadata": {},
   "source": [
    "### 2. CIP - SG Booked Non-HK RMs"
   ]
  },
  {
   "cell_type": "code",
   "execution_count": null,
   "id": "b5b105b9",
   "metadata": {
    "scrolled": true
   },
   "outputs": [],
   "source": [
    "# 02 cip - sg-booked non-hk rm\n",
    "%run ./scr/02_cip_non_hkrm.ipynb\n",
    "cip_non_hk()"
   ]
  },
  {
   "cell_type": "markdown",
   "id": "37403afb",
   "metadata": {},
   "source": [
    "### 4. Derivative Reform"
   ]
  },
  {
   "cell_type": "code",
   "execution_count": null,
   "id": "58693ffd",
   "metadata": {},
   "outputs": [],
   "source": [
    "# 04 derivative reform\n",
    "%run ./scr/04_derivative_reform.ipynb\n",
    "derivative_reform()"
   ]
  },
  {
   "cell_type": "markdown",
   "id": "d73b0ad9",
   "metadata": {},
   "source": [
    "### 5. Active Accounts with No Pricing"
   ]
  },
  {
   "cell_type": "code",
   "execution_count": null,
   "id": "c4eddb78",
   "metadata": {
    "scrolled": true
   },
   "outputs": [],
   "source": [
    "# 05 active accounts with no pricing\n",
    "%run ./scr/05_active_acc_no_pricing.ipynb\n",
    "active_acc_no_pricing()"
   ]
  },
  {
   "cell_type": "markdown",
   "id": "836d69f1",
   "metadata": {},
   "source": [
    "### 6. EAM with Double Agreements"
   ]
  },
  {
   "cell_type": "code",
   "execution_count": null,
   "id": "a294da07",
   "metadata": {},
   "outputs": [],
   "source": [
    "# 06 eam with double agreements\n",
    "%run ./scr/06_eam.ipynb\n",
    "eam()"
   ]
  },
  {
   "cell_type": "markdown",
   "id": "5403a1b2",
   "metadata": {},
   "source": [
    "### 7. Service Termination Tag"
   ]
  },
  {
   "cell_type": "code",
   "execution_count": null,
   "id": "e7a721ec",
   "metadata": {},
   "outputs": [],
   "source": [
    "# 07 service termination tag\n",
    "%run ./scr/07_service_termination.ipynb\n",
    "service_termination()"
   ]
  },
  {
   "cell_type": "markdown",
   "id": "685f2b8d",
   "metadata": {},
   "source": [
    "### 8. Expired Australian Accountant Certificate"
   ]
  },
  {
   "cell_type": "code",
   "execution_count": null,
   "id": "9634566e",
   "metadata": {
    "scrolled": true
   },
   "outputs": [],
   "source": [
    "# 08 expired australian accountant certificate\n",
    "%run ./scr/08_expired_aus_acc_cert.ipynb\n",
    "eaac()"
   ]
  },
  {
   "cell_type": "markdown",
   "id": "46a47364",
   "metadata": {},
   "source": [
    "### 9. T24"
   ]
  },
  {
   "cell_type": "code",
   "execution_count": null,
   "id": "baa6245e",
   "metadata": {
    "scrolled": false
   },
   "outputs": [],
   "source": [
    "# 09 t24\n",
    "%run ./scr/09_t24.ipynb\n",
    "t24()"
   ]
  },
  {
   "cell_type": "markdown",
   "id": "37f1b44e",
   "metadata": {},
   "source": [
    "### 11. VC Block and Unblock"
   ]
  },
  {
   "cell_type": "code",
   "execution_count": null,
   "id": "13df3999",
   "metadata": {},
   "outputs": [],
   "source": [
    "# 11 vulnerable client\n",
    "%run ./scr/11_vc_block_unblock.ipynb\n",
    "vc()"
   ]
  },
  {
   "cell_type": "markdown",
   "id": "7ee18992",
   "metadata": {},
   "source": [
    "### 12. T24 PROD Pricing"
   ]
  },
  {
   "cell_type": "code",
   "execution_count": null,
   "id": "a98b3c65",
   "metadata": {
    "scrolled": true
   },
   "outputs": [],
   "source": [
    "# 12 t24 prod pricing\n",
    "%run ./scr/12_t24_prod_pricing.ipynb\n",
    "prod_pricing()"
   ]
  },
  {
   "cell_type": "markdown",
   "id": "e582d2d2",
   "metadata": {},
   "source": [
    "***"
   ]
  },
  {
   "cell_type": "markdown",
   "id": "39559eea",
   "metadata": {},
   "source": [
    "### CIP Doxter upload report generation"
   ]
  },
  {
   "cell_type": "code",
   "execution_count": null,
   "id": "b2ce2c9c",
   "metadata": {
    "scrolled": true
   },
   "outputs": [],
   "source": [
    "# extra cip tagging doxter upload report generation\n",
    "%run ./scr/cip_upload.ipynb\n",
    "cip_upload(pf = input(\"Enter Portfolio number: \"))"
   ]
  }
 ],
 "metadata": {
  "kernelspec": {
   "display_name": "Python 3",
   "language": "python",
   "name": "python3"
  },
  "language_info": {
   "codemirror_mode": {
    "name": "ipython",
    "version": 3
   },
   "file_extension": ".py",
   "mimetype": "text/x-python",
   "name": "python",
   "nbconvert_exporter": "python",
   "pygments_lexer": "ipython3",
   "version": "3.8.8"
  }
 },
 "nbformat": 4,
 "nbformat_minor": 5
}
