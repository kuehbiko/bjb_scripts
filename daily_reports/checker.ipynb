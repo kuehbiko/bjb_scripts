{
 "cells": [
  {
   "cell_type": "markdown",
   "id": "df97fe86",
   "metadata": {},
   "source": [
    "# Daily Reports Checker\n",
    "Runs for:\n",
    "- [Implemented] CIP - HK RMs \n",
    "- [Implemented] CIP - Non HK RMs\n",
    "- [Implemented] CIP Tagging Doxter Upload Generator\n",
    "- [Implemented] Derivative Reform\n",
    "- [Implemented] Active Accounts with No Pricing\n",
    "- [Implemented] EAM \n",
    "    (Uncertain due to no past test cases - please notify if you come across any issues)\n",
    "- [Implemented] Service Termination Tag \n",
    "    (Output depends on tag reason. Some tag reasons r not standard. Pls check excel file if output has issues.)\n",
    "- [Implemented] Expired Australian Accountant Certificate\n",
    "- [Implemented] T24 (shaky code but it works so,,)\n",
    "- [Implemented] VC block and unblock (Can run 1.block in the VC RPRT folder or in this module's folder it makes no diff)\n",
    "- [Implemented] PROD pricing (not able to open the file through python. if anything is flagged, please open the file manually)\n",
    "\n",
    "Manual checks to be done:\n",
    "- 3. Deviation Report\n",
    "- 10. Non-PI for HKRM accounts"
   ]
  },
  {
   "cell_type": "code",
   "execution_count": null,
   "id": "7d472b1b",
   "metadata": {},
   "outputs": [],
   "source": [
    "import pandas as pd\n",
    "import datetime\n",
    "import warnings\n",
    "import os\n",
    "\n",
    "warnings.simplefilter(\"ignore\")\n",
    "\n",
    "file_loc = input(\"Folder path: \")\n",
    "\n",
    "numdays = int(input(\"Number of days: \"))\n",
    "base = datetime.datetime.today()"
   ]
  },
  {
   "cell_type": "markdown",
   "id": "cceb7c3e",
   "metadata": {},
   "source": [
    "### 1. CIP SG Booked HK RM"
   ]
  },
  {
   "cell_type": "code",
   "execution_count": null,
   "id": "3b95632d",
   "metadata": {},
   "outputs": [],
   "source": [
    "%run ./Sub/CIP_HK.ipynb\n",
    "CIP_HK()"
   ]
  },
  {
   "cell_type": "markdown",
   "id": "5f18ff00",
   "metadata": {},
   "source": [
    "### 2. CIP SG Booked Non HK RM"
   ]
  },
  {
   "cell_type": "code",
   "execution_count": null,
   "id": "42c2073f",
   "metadata": {},
   "outputs": [],
   "source": [
    "%run ./Sub/CIP_nonHK.ipynb\n",
    "CIP_nonHK()"
   ]
  },
  {
   "cell_type": "markdown",
   "id": "ad00581d",
   "metadata": {},
   "source": [
    "### 4. Derivative Reform "
   ]
  },
  {
   "cell_type": "code",
   "execution_count": null,
   "id": "d41404ca",
   "metadata": {
    "scrolled": true
   },
   "outputs": [],
   "source": [
    "%run ./Sub/Derivative_Reform.ipynb\n",
    "Derivative_Reform()"
   ]
  },
  {
   "cell_type": "markdown",
   "id": "2c727883",
   "metadata": {},
   "source": [
    "### 5. Active Accounts with No Pricing "
   ]
  },
  {
   "cell_type": "code",
   "execution_count": null,
   "id": "36d6b3c3",
   "metadata": {
    "scrolled": true
   },
   "outputs": [],
   "source": [
    "%run ./Sub/Active_Acc_Pricing.ipynb\n",
    "No_Pricing()"
   ]
  },
  {
   "cell_type": "markdown",
   "id": "f8d4b00c",
   "metadata": {},
   "source": [
    "### 6. EAM with Double Agreements"
   ]
  },
  {
   "cell_type": "code",
   "execution_count": null,
   "id": "3ddeeeb2",
   "metadata": {
    "scrolled": false
   },
   "outputs": [],
   "source": [
    "%run ./Sub/EAM.ipynb\n",
    "EAM()"
   ]
  },
  {
   "cell_type": "markdown",
   "id": "06056b15",
   "metadata": {},
   "source": [
    "### 7. Service Termination Tag"
   ]
  },
  {
   "cell_type": "code",
   "execution_count": null,
   "id": "3be1d2f8",
   "metadata": {
    "scrolled": true
   },
   "outputs": [],
   "source": [
    "%run ./Sub/Service_Termination.ipynb\n",
    "Service_Term()"
   ]
  },
  {
   "cell_type": "markdown",
   "id": "69be685e",
   "metadata": {},
   "source": [
    "### 8. Expired Australian Accountant Certificate "
   ]
  },
  {
   "cell_type": "code",
   "execution_count": null,
   "id": "b8f543dd",
   "metadata": {
    "scrolled": true
   },
   "outputs": [],
   "source": [
    "%run ./Sub/EAAC.ipynb\n",
    "EAAC()"
   ]
  },
  {
   "cell_type": "markdown",
   "id": "3cb43942",
   "metadata": {},
   "source": [
    "### 9. T24"
   ]
  },
  {
   "cell_type": "code",
   "execution_count": null,
   "id": "2b2c3a2b",
   "metadata": {
    "scrolled": true
   },
   "outputs": [],
   "source": [
    "%run ./Sub/T24.ipynb\n",
    "t24()"
   ]
  },
  {
   "cell_type": "markdown",
   "id": "a8232573",
   "metadata": {},
   "source": [
    "### 11. Vulnerable Client"
   ]
  },
  {
   "cell_type": "code",
   "execution_count": null,
   "id": "c20636cb",
   "metadata": {
    "scrolled": true
   },
   "outputs": [],
   "source": [
    "%run ./Sub/VC_Block_Unblock.ipynb\n",
    "VC_Block()\n",
    "VC_Unblock()"
   ]
  },
  {
   "cell_type": "markdown",
   "id": "ee60846d",
   "metadata": {},
   "source": [
    "### 12. T24 PROD Pricing "
   ]
  },
  {
   "cell_type": "code",
   "execution_count": null,
   "id": "a85ec5af",
   "metadata": {
    "scrolled": true
   },
   "outputs": [],
   "source": [
    "%run ./Sub/Prod_Pricing.ipynb\n",
    "prod_pricing()"
   ]
  },
  {
   "cell_type": "markdown",
   "id": "5ed03677",
   "metadata": {},
   "source": [
    "### CIP Tagging Doxter Upload Generator "
   ]
  },
  {
   "cell_type": "code",
   "execution_count": null,
   "id": "5462aab6",
   "metadata": {
    "scrolled": true
   },
   "outputs": [],
   "source": [
    "%run ./Sub/CIP_Doxter_Upload.ipynb\n",
    "CIP_DoxterUL(pf = input(\"Enter Portfolio number: \"))"
   ]
  }
 ],
 "metadata": {
  "kernelspec": {
   "display_name": "Python 3",
   "language": "python",
   "name": "python3"
  },
  "language_info": {
   "codemirror_mode": {
    "name": "ipython",
    "version": 3
   },
   "file_extension": ".py",
   "mimetype": "text/x-python",
   "name": "python",
   "nbconvert_exporter": "python",
   "pygments_lexer": "ipython3",
   "version": "3.8.8"
  }
 },
 "nbformat": 4,
 "nbformat_minor": 5
}
