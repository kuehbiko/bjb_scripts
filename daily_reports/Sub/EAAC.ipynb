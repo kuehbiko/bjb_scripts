{
 "cells": [
  {
   "cell_type": "markdown",
   "id": "b92f5d3f",
   "metadata": {},
   "source": [
    "# Expired Australian Accountant Certificate"
   ]
  },
  {
   "cell_type": "code",
   "execution_count": null,
   "id": "c83fb2ac",
   "metadata": {},
   "outputs": [],
   "source": [
    "date_list = [base - datetime.timedelta(days=x) for x in range(numdays)]"
   ]
  },
  {
   "cell_type": "code",
   "execution_count": 1,
   "id": "8b3b93cd",
   "metadata": {},
   "outputs": [],
   "source": [
    "file_list = []"
   ]
  },
  {
   "cell_type": "code",
   "execution_count": 1,
   "id": "2d7518e3",
   "metadata": {},
   "outputs": [],
   "source": [
    "def EAAC():\n",
    "    for date in date_list:\n",
    "        format_date = date.strftime(\"%Y%m%d\") #YYYYMMDD\n",
    "        file_list.append(file_loc + '' + \n",
    "                         format_date + '0801.xlsx')\n",
    "    \n",
    "        #Check if file exists\n",
    "        if os.path.exists(file_list[-1]):\n",
    "            continue\n",
    "        else:\n",
    "            file_list.pop()\n",
    "            file_list.append(\"NA\")\n",
    "        \n",
    "    for day in range(len(file_list)):\n",
    "\n",
    "        print(\"\\n\" + date_list[day].strftime(\"%d-%b\"))\n",
    "    \n",
    "        #Loops through file_list and reads each report within given time range\n",
    "        if file_list[day] != \"NA\":\n",
    "            eaac = pd.read_excel(file_list[day]) #can't read file????\n",
    "    \n",
    "            if eaac.empty:\n",
    "                print(\"<No portfolios flagged.>\") #this line doesnt seem to be working\n",
    "            \n",
    "            else:\n",
    "                #Rearrange dataframe for new header\n",
    "                new_header = eaac.iloc[0]\n",
    "                eaac = eaac[1:]\n",
    "                eaac.columns = new_header\n",
    "        \n",
    "                #Identify accounts to block - this is a dataframe\n",
    "                eaac_toBlock = eaac[\"Portfolio Number\"]\n",
    "\n",
    "                for item in eaac_toBlock:\n",
    "                    print(item)\n",
    "        else:\n",
    "            print(\"<No file found.>\")"
   ]
  }
 ],
 "metadata": {
  "kernelspec": {
   "display_name": "Python 3",
   "language": "python",
   "name": "python3"
  },
  "language_info": {
   "codemirror_mode": {
    "name": "ipython",
    "version": 3
   },
   "file_extension": ".py",
   "mimetype": "text/x-python",
   "name": "python",
   "nbconvert_exporter": "python",
   "pygments_lexer": "ipython3",
   "version": "3.8.8"
  }
 },
 "nbformat": 4,
 "nbformat_minor": 5
}
