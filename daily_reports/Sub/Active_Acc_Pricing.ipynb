{
 "cells": [
  {
   "cell_type": "markdown",
   "id": "7a465c25",
   "metadata": {},
   "source": [
    "# Active Account With No Pricing"
   ]
  },
  {
   "cell_type": "code",
   "execution_count": null,
   "id": "ab2ed9b5",
   "metadata": {},
   "outputs": [],
   "source": [
    "date_list = [base - datetime.timedelta(days=x) for x in range(numdays)]"
   ]
  },
  {
   "cell_type": "code",
   "execution_count": 2,
   "id": "4f798c71",
   "metadata": {},
   "outputs": [],
   "source": [
    "file_list = []"
   ]
  },
  {
   "cell_type": "code",
   "execution_count": 3,
   "id": "ed1bcf81",
   "metadata": {},
   "outputs": [],
   "source": [
    "def No_Pricing():\n",
    "    for date in date_list:\n",
    "        format_date = date.strftime(\"%Y-%m-%d\") #YYYY-MM-DD\n",
    "        file_list.append(file_loc + '' + format_date + '.xlsx')\n",
    "    \n",
    "        #Check if file exists\n",
    "        if os.path.exists(file_list[-1]):\n",
    "            continue\n",
    "        else:\n",
    "            file_list.pop()\n",
    "            file_list.append(\"NA\")\n",
    "\n",
    "    for day in range(len(file_list)):\n",
    "\n",
    "        print(\"\\n\" + date_list[day].strftime(\"%d-%b\"))\n",
    "    \n",
    "        #Loops through file_list and reads each report within given time range\n",
    "        if file_list[day] != \"NA\":\n",
    "            no_pr = pd.read_excel(file_list[day])\n",
    "    \n",
    "            #Rearrange dataframe for new header\n",
    "            new_header = no_pr.iloc[0]\n",
    "            no_pr = no_pr[1:]\n",
    "            no_pr.columns = new_header\n",
    "        \n",
    "            #Reformat and print to console\n",
    "            if no_pr.empty:\n",
    "                print(\"<No portfolios flagged.>\") \n",
    "            else:\n",
    "                for item in no_pr[\"Portfolio Number\"]:\n",
    "                    print(item)\n",
    "        else:\n",
    "            print('<No file found.>')"
   ]
  }
 ],
 "metadata": {
  "kernelspec": {
   "display_name": "Python 3",
   "language": "python",
   "name": "python3"
  },
  "language_info": {
   "codemirror_mode": {
    "name": "ipython",
    "version": 3
   },
   "file_extension": ".py",
   "mimetype": "text/x-python",
   "name": "python",
   "nbconvert_exporter": "python",
   "pygments_lexer": "ipython3",
   "version": "3.8.8"
  }
 },
 "nbformat": 4,
 "nbformat_minor": 5
}
