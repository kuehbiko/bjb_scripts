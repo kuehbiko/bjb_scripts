{
 "cells": [
  {
   "cell_type": "markdown",
   "id": "37736df1",
   "metadata": {},
   "source": [
    "# CIP HK RMs"
   ]
  },
  {
   "cell_type": "code",
   "execution_count": null,
   "id": "d48be573",
   "metadata": {},
   "outputs": [],
   "source": [
    "date_list = [base - datetime.timedelta(days=x) for x in range(numdays)]"
   ]
  },
  {
   "cell_type": "code",
   "execution_count": 2,
   "id": "188942cb",
   "metadata": {},
   "outputs": [],
   "source": [
    "file_list = []"
   ]
  },
  {
   "cell_type": "code",
   "execution_count": 3,
   "id": "6c9ed6c2",
   "metadata": {},
   "outputs": [],
   "source": [
    "def CIP_HK():\n",
    "    for date in date_list:\n",
    "        format_date = date.strftime(\"%Y-%m-%d\") #YYYY-MM-DD\n",
    "        file_list.append(file_loc + '' + format_date + '.xlsx')\n",
    "    \n",
    "        #Check if file exists\n",
    "        if os.path.exists(file_list[-1]):\n",
    "            continue\n",
    "        else:\n",
    "            file_list.pop()\n",
    "            file_list.append(\"NA\")\n",
    "        \n",
    "        \n",
    "    for day in range(len(file_list)):\n",
    "        print(\"\\n\" + date_list[day].strftime(\"%d-%b\"))\n",
    "    \n",
    "        #Loops through file_list and reads each report within given time range\n",
    "        if file_list[day] != \"NA\":\n",
    "            cip_HK = pd.read_excel(file_list[day])\n",
    "    \n",
    "            #Rearrange dataframe for new header\n",
    "            new_header = cip_HK.iloc[1]\n",
    "            cip_HK = cip_HK[2:]\n",
    "            cip_HK.columns = new_header\n",
    "        \n",
    "            #Identify accounts to block - this is a dataframe\n",
    "            cip_HK_toBlock = cip_HK[cip_HK[\"No. of Days Past Due\"] == 1]\n",
    "    \n",
    "            #Reformat and print to console\n",
    "            if cip_HK_toBlock.empty:\n",
    "                print(\"<No portfolios flagged.>\")\n",
    "            else:\n",
    "                for item in cip_HK_toBlock[\"Portfolio Number\"]:\n",
    "                    print(item)\n",
    "            \n",
    "        else:\n",
    "            print(\"<No file found.>\")"
   ]
  }
 ],
 "metadata": {
  "kernelspec": {
   "display_name": "Python 3",
   "language": "python",
   "name": "python3"
  },
  "language_info": {
   "codemirror_mode": {
    "name": "ipython",
    "version": 3
   },
   "file_extension": ".py",
   "mimetype": "text/x-python",
   "name": "python",
   "nbconvert_exporter": "python",
   "pygments_lexer": "ipython3",
   "version": "3.8.8"
  }
 },
 "nbformat": 4,
 "nbformat_minor": 5
}
