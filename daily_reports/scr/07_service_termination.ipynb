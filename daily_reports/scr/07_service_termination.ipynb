{
 "cells": [
  {
   "cell_type": "markdown",
   "id": "de3eb9b8",
   "metadata": {},
   "source": [
    "### Service Termination Tag"
   ]
  },
  {
   "cell_type": "code",
   "execution_count": 5,
   "id": "ca6fab58",
   "metadata": {},
   "outputs": [],
   "source": [
    "date_list = [base - dt.timedelta(days=x) for x in range(numdays)]\n",
    "today = base.strftime(\"%d %b %Y\")"
   ]
  },
  {
   "cell_type": "code",
   "execution_count": 2,
   "id": "f794e3cf",
   "metadata": {},
   "outputs": [],
   "source": [
    "file_list = []"
   ]
  },
  {
   "cell_type": "code",
   "execution_count": 3,
   "id": "162dd617",
   "metadata": {
    "scrolled": true
   },
   "outputs": [],
   "source": [
    "def service_termination():\n",
    "    for date in date_list:\n",
    "        format_date = date.strftime(\"%Y%m%d\") #YYYYMMDD\n",
    "        file_list.append(file_loc + '/ACU_SG_CRM_Service_Termination_Tag_v2_Report-' + format_date + '0845.xlsx')\n",
    "    \n",
    "        #Check if file exists\n",
    "        if os.path.exists(file_list[-1]): continue\n",
    "        else:\n",
    "            file_list.pop()\n",
    "            file_list.append(\"NA\")\n",
    "\n",
    "    for day in range(len(file_list)):\n",
    "\n",
    "        print(\"\\n\" + date_list[day].strftime(\"%d-%b\"))\n",
    "    \n",
    "        #Loops through file_list and reads each report within given time range\n",
    "        if file_list[day] != \"NA\":\n",
    "            sv_term = pd.read_excel(file_list[day])\n",
    "        \n",
    "            r = [x for x in sv_term[\"Portfolio Number\"]]\n",
    "            s = [y for y in sv_term[\"Reason for Tagging\"]]\n",
    "            t = [z for z in sv_term[\"Tag ID\"]]\n",
    "        \n",
    "            print(\"List of Portfolios:\")\n",
    "            \n",
    "            portfolio_list = []\n",
    "            for i in range(len(s)):\n",
    "                tag_date = s[i][:11]\n",
    "                tag_date_format = dt.datetime.strptime(tag_date, '%d %b %Y').date().strftime(\"%d %b %Y\")\n",
    "            \n",
    "                if tag_date_format == today: \n",
    "                    portfolio_list.append(r[i] + ' - Service termination date: ' + tag_date_format)\n",
    "                else: continue\n",
    "            \n",
    "            if portfolio_list: print(*portfolio_list, sep = \"\\n\")\n",
    "            else: print(\"<No portfolios found.>\")\n",
    "        else:\n",
    "            print(\"<No file found.>\")"
   ]
  }
 ],
 "metadata": {
  "kernelspec": {
   "display_name": "Python 3",
   "language": "python",
   "name": "python3"
  },
  "language_info": {
   "codemirror_mode": {
    "name": "ipython",
    "version": 3
   },
   "file_extension": ".py",
   "mimetype": "text/x-python",
   "name": "python",
   "nbconvert_exporter": "python",
   "pygments_lexer": "ipython3",
   "version": "3.8.8"
  }
 },
 "nbformat": 4,
 "nbformat_minor": 5
}
