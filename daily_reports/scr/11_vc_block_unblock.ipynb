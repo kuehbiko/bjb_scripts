{
 "cells": [
  {
   "cell_type": "markdown",
   "id": "9c0ea6a0",
   "metadata": {},
   "source": [
    "### Vunerable Clients"
   ]
  },
  {
   "cell_type": "code",
   "execution_count": null,
   "id": "e481cf49",
   "metadata": {},
   "outputs": [],
   "source": [
    "date_list = [base - dt.timedelta(days=x) for x in range(numdays)]"
   ]
  },
  {
   "cell_type": "code",
   "execution_count": null,
   "id": "9e798007",
   "metadata": {},
   "outputs": [],
   "source": [
    "file_list = []"
   ]
  },
  {
   "cell_type": "code",
   "execution_count": null,
   "id": "386e8f49",
   "metadata": {},
   "outputs": [],
   "source": [
    "def vc():\n",
    "    \n",
    "    for date in date_list: # iterate over numdays, get list of valid file paths\n",
    "        format_date = date.strftime(\"%Y-%m-%d\") #YYYY-MM-DD\n",
    "        file_list.append(file_loc + '/VC_Block_Report_SG_BC-' + format_date + '.xlsx')\n",
    "    \n",
    "        #Check if file exists\n",
    "        if os.path.exists(file_list[-1]):\n",
    "            continue\n",
    "        else:\n",
    "            file_list.pop()\n",
    "            file_list.append(\"NA\")\n",
    "     \n",
    "    for day in range(len(file_list)): # iterate over list of valid file paths\n",
    "        print(\"\\n\" + date_list[day].strftime(\"%d-%b\"))\n",
    "    \n",
    "        #Loops through file_list and reads each report within given time range\n",
    "        if file_list[day] != \"NA\":\n",
    "            vc = pd.read_excel(file_list[day])\n",
    "        \n",
    "            #Rearrange dataframe for new header\n",
    "            new_header = vc.iloc[1]\n",
    "            vc = vc[2:]\n",
    "            vc.columns = new_header\n",
    "            vc = vc.dropna(subset=['Portfolio Number'])\n",
    "            \n",
    "            to_block = vc[(vc['VC Status']=='Yes') & (vc['Risk Profile (Calculated)']=='High')]['Portfolio Number'].tolist()\n",
    "            \n",
    "            to_unblock = vc[((vc['VC Status']=='No') & (vc['Risk Profile (Calculated)']=='High')) |\n",
    "                            (vc['Risk Profile (Calculated)']!='High')]['Portfolio Number'].tolist()\n",
    "            \n",
    "            print('To Block:')\n",
    "            if to_block: print(*to_block, sep = \"\\n\")\n",
    "            else: print(\"<No portfolios found.>\")\n",
    "                \n",
    "            print('To Unblock:')\n",
    "            if to_unblock: print(*to_unblock, sep = \"\\n\")\n",
    "            else: print(\"<No portfolios found.>\")\n",
    "        \n",
    "        else: print(\"<No file found.>\")"
   ]
  }
 ],
 "metadata": {
  "kernelspec": {
   "display_name": "Python 3",
   "language": "python",
   "name": "python3"
  },
  "language_info": {
   "codemirror_mode": {
    "name": "ipython",
    "version": 3
   },
   "file_extension": ".py",
   "mimetype": "text/x-python",
   "name": "python",
   "nbconvert_exporter": "python",
   "pygments_lexer": "ipython3",
   "version": "3.8.8"
  }
 },
 "nbformat": 4,
 "nbformat_minor": 5
}
