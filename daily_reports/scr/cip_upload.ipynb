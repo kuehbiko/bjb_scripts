{
 "cells": [
  {
   "cell_type": "markdown",
   "id": "f5e543c4",
   "metadata": {},
   "source": [
    "# CIP Doxter Upload Excel Generator"
   ]
  },
  {
   "cell_type": "code",
   "execution_count": 1,
   "id": "2e748493",
   "metadata": {},
   "outputs": [],
   "source": [
    "import xlsxwriter\n",
    "from datetime import date\n",
    "format_date = date.today().strftime(\"%d-%m-%Y\") #DD-MM-YYYY\n",
    "format_date2 = date.today().strftime(\"%d-%b-%Y\")"
   ]
  },
  {
   "cell_type": "code",
   "execution_count": 1,
   "id": "c3c4d6ee",
   "metadata": {},
   "outputs": [],
   "source": [
    "def cip_upload(pf):\n",
    "    #Check if file exists\n",
    "    if os.path.exists(file_loc + '/CIP_Tagging_Process_Status_Report_' + format_date + '.xlsx'):\n",
    "        cip_doxUL = pd.read_excel(file_loc + '/CIP_Tagging_Process_Status_Report_' + \n",
    "                                  format_date + '.xlsx', usecols=('A:E'))\n",
    "    else:\n",
    "        print(\"<No corresponding file.>\")\n",
    "\n",
    "    #Reformat the table\n",
    "    new_header = cip_doxUL.iloc[1]\n",
    "    cip_doxUL = cip_doxUL[2:]\n",
    "    cip_doxUL.columns = new_header\n",
    "\n",
    "    #Find index of the portfolio row:\n",
    "    pf_index = cip_doxUL.index[cip_doxUL[\"Portfolio Number\"] == pf]\n",
    "    pf_index = pf_index.tolist()\n",
    "    #Convert respective row into list\n",
    "    pf_row = cip_doxUL.iloc[pf_index[0]-2].tolist()\n",
    "\n",
    "    #Create Excel file and save in CIP doxter upload folder               \n",
    "    workbook = xlsxwriter.Workbook('/Maker/Files/' + format_date2 + \n",
    "                                   '/Output/Upload to Doxter' + '/Doxter Upload Report_' + pf + '_' + format_date + '.xlsx')\n",
    "    \n",
    "\n",
    "    #Formatting\n",
    "    format_cell = workbook.add_format({'bold': True, 'bg_color': '#D9E4F1', 'border': True, 'border_color': '#D4D4D4'})\n",
    "\n",
    "    #Entering data\n",
    "    worksheet = workbook.add_worksheet(\"Report\")\n",
    "    \n",
    "    worksheet.set_column('A:A', 25.86)\n",
    "    worksheet.set_column('B:B', 21.71)\n",
    "    worksheet.set_column('C:C', 23.14)\n",
    "    worksheet.set_column('D:D', 18.43)\n",
    "    worksheet.set_column('E:E', 26)\n",
    "    worksheet.set_column('F:F', 25.43)\n",
    "    worksheet.set_column('G:G', 27.43)\n",
    "\n",
    "    worksheet.write(0,0, \"Doxter Upload Status Report\")\n",
    "    worksheet.write(1,0, \"Portfolio Number\", format_cell)\n",
    "    worksheet.write(1,1, \"RM Name\", format_cell)\n",
    "    worksheet.write(1,2, \"RM Location\", format_cell)\n",
    "    worksheet.write(1,3, \"Tag ID\", format_cell)\n",
    "    worksheet.write(1,4, \"Tag Name\", format_cell)\n",
    "    worksheet.write(1,5, \"Tag Placement Date\", format_cell)\n",
    "    worksheet.write(1,6, \"Input Process Name\", format_cell)\n",
    "    worksheet.write(2,5, date.today().strftime(\"%d-%b-%Y\"))\n",
    "    worksheet.write(2,6, \"CIP Deficiency Tagging\")\n",
    "\n",
    "    for i in pf_row:\n",
    "        worksheet.write(2, pf_row.index(i), i)\n",
    "\n",
    "    workbook.close()\n",
    "    \n",
    "    print(\"\\n<Doxter upload file successfully generated for \" + pf + \"!>\")\n"
   ]
  }
 ],
 "metadata": {
  "kernelspec": {
   "display_name": "Python 3",
   "language": "python",
   "name": "python3"
  },
  "language_info": {
   "codemirror_mode": {
    "name": "ipython",
    "version": 3
   },
   "file_extension": ".py",
   "mimetype": "text/x-python",
   "name": "python",
   "nbconvert_exporter": "python",
   "pygments_lexer": "ipython3",
   "version": "3.8.8"
  }
 },
 "nbformat": 4,
 "nbformat_minor": 5
}
