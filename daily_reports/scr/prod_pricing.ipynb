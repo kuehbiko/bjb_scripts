{
 "cells": [
  {
   "cell_type": "markdown",
   "id": "3a0080e3",
   "metadata": {},
   "source": [
    "# T24 PROD Pricing"
   ]
  },
  {
   "cell_type": "code",
   "execution_count": null,
   "id": "63804eb2",
   "metadata": {},
   "outputs": [],
   "source": [
    "file_list = []\n",
    "date_list = [base - datetime.timedelta(days=x) for x in range(numdays+1)]\n",
    "date_list.pop(0)"
   ]
  },
  {
   "cell_type": "code",
   "execution_count": 2,
   "id": "ef13f414",
   "metadata": {},
   "outputs": [],
   "source": [
    "def prod_pricing():\n",
    "    for date in date_list:\n",
    "        format_date = date.strftime(\"%Y%m%d\") #YYYYMMDD\n",
    "        file_list.append('' + format_date + '')\n",
    "    \n",
    "        #Check if file exists\n",
    "        if os.path.exists(file_list[-1]):\n",
    "            continue\n",
    "        else:\n",
    "            file_list.pop()\n",
    "            file_list.append(\"NA\")\n",
    "\n",
    "    for day in range(len(file_list)):\n",
    "        print(\"\\n\" + date_list[day].strftime(\"%d-%b\"))\n",
    "        if file_list[day] != 'NA':\n",
    "            file_stat = os.stat(file_list[day])\n",
    "            print(\"<No portfolios flagged.>\" if file_stat.st_size == 394 else \"<Portfolio identified; please open file at \" + file_list[day] + \"for more info.>\")\n",
    "        else:\n",
    "            print('<No file found.>')"
   ]
  }
 ],
 "metadata": {
  "kernelspec": {
   "display_name": "Python 3",
   "language": "python",
   "name": "python3"
  },
  "language_info": {
   "codemirror_mode": {
    "name": "ipython",
    "version": 3
   },
   "file_extension": ".py",
   "mimetype": "text/x-python",
   "name": "python",
   "nbconvert_exporter": "python",
   "pygments_lexer": "ipython3",
   "version": "3.8.8"
  }
 },
 "nbformat": 4,
 "nbformat_minor": 5
}
