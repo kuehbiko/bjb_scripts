{
 "cells": [
  {
   "cell_type": "markdown",
   "id": "fa6385c2",
   "metadata": {},
   "source": [
    "### T24"
   ]
  },
  {
   "cell_type": "code",
   "execution_count": null,
   "id": "f63736a1",
   "metadata": {},
   "outputs": [],
   "source": [
    "date_list = [base - dt.timedelta(days=x) for x in range(numdays)]"
   ]
  },
  {
   "cell_type": "code",
   "execution_count": 1,
   "id": "a3713f68",
   "metadata": {},
   "outputs": [],
   "source": [
    "file_list = []"
   ]
  },
  {
   "cell_type": "code",
   "execution_count": null,
   "id": "3c2b85d9",
   "metadata": {},
   "outputs": [],
   "source": [
    "def t24():\n",
    "    for date in date_list:\n",
    "        format_date = date.strftime(\"%Y%m%d\") #YYYYMMDD\n",
    "        file_list.append(file_loc + '/' + format_date + '_T24Errors_Unauth_List.xlsx')\n",
    "    \n",
    "        #Check if file exists\n",
    "        if os.path.exists(file_list[-1]):\n",
    "            continue\n",
    "        else:\n",
    "            file_list.pop()\n",
    "            file_list.append(\"NA\")\n",
    "        \n",
    "    for day in range(len(file_list)):\n",
    "\n",
    "        print(\"\\n\" + date_list[day].strftime(\"%d-%b\"))\n",
    "    \n",
    "        #Loops through file_list and reads each report within given time range\n",
    "        if file_list[day] != \"NA\":\n",
    "            t24 = pd.read_excel(file_list[day], sheet_name = \"All Unauth Recs\", usecols=\"I,J\")\n",
    "        \n",
    "            name_list = ['ACC.MGMT.A']\n",
    "\n",
    "            #Identify results flagged - this is a dataframe\n",
    "            for name in name_list:\n",
    "                t24_username = t24[t24[\"User Role\"] == name]\n",
    "                if t24_username.empty:\n",
    "                    print(name + ': <No records found.>')\n",
    "                else:\n",
    "                    print(t24_username.to_string(index=False))\n",
    "            \n",
    "        else:\n",
    "            print(\"<No file found.>\")"
   ]
  }
 ],
 "metadata": {
  "kernelspec": {
   "display_name": "Python 3",
   "language": "python",
   "name": "python3"
  },
  "language_info": {
   "codemirror_mode": {
    "name": "ipython",
    "version": 3
   },
   "file_extension": ".py",
   "mimetype": "text/x-python",
   "name": "python",
   "nbconvert_exporter": "python",
   "pygments_lexer": "ipython3",
   "version": "3.8.8"
  }
 },
 "nbformat": 4,
 "nbformat_minor": 5
}
