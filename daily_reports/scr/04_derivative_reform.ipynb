{
 "cells": [
  {
   "cell_type": "markdown",
   "id": "59e3eb05",
   "metadata": {},
   "source": [
    "### Derivative Reform"
   ]
  },
  {
   "cell_type": "code",
   "execution_count": null,
   "id": "16ba826f",
   "metadata": {},
   "outputs": [],
   "source": [
    "import xlsxwriter"
   ]
  },
  {
   "cell_type": "code",
   "execution_count": 2,
   "id": "cb0879e6",
   "metadata": {},
   "outputs": [],
   "source": [
    "file_list = []\n",
    "date_list = [base - dt.timedelta(days=x) for x in range(numdays+1)]\n",
    "date_list.pop(0)"
   ]
  },
  {
   "cell_type": "code",
   "execution_count": 3,
   "id": "9cf1c1c3",
   "metadata": {},
   "outputs": [],
   "source": [
    "def derivative_reform():\n",
    "    for date in date_list:\n",
    "        format_date = date.strftime(\"%d-%b-%Y\") #DD-MMM-YYYY\n",
    "        file_list.append(file_loc + '/' + format_date + ' ACM Report for Subject to Derivative Reforms.xls')\n",
    "    \n",
    "        #Check if file exists\n",
    "        if os.path.exists(file_list[-1]):\n",
    "            continue\n",
    "        else:\n",
    "            file_list.pop()\n",
    "            file_list.append(\"NA\")\n",
    "\n",
    "    for day in range(len(file_list)):\n",
    "\n",
    "        print(\"\\n\" + date_list[day].strftime(\"%d-%b\"))\n",
    "\n",
    "        #Loops through file_list and reads each report within given time range\n",
    "        if file_list[day] != \"NA\":\n",
    "            der_ref = pd.read_excel(file_list[day], usecols=('A:E,J:K,M:R')) #Can change the list of columns for easy print to excel later\n",
    "\n",
    "            #Rearrange dataframe for new header\n",
    "            new_header = der_ref.iloc[1] #grab the first row for the header\n",
    "            der_ref = der_ref[2:] #take the data minus the header row\n",
    "            der_ref.columns = new_header #set the header row as the df header\n",
    "\n",
    "\n",
    "            i = 0\n",
    "            for item in der_ref[\"Portfolio\"]:\n",
    "                print(item + ' - ' + der_ref.iloc[i,12])\n",
    "                i += 1\n",
    "        else:\n",
    "            print(\"<No file found.>\")"
   ]
  }
 ],
 "metadata": {
  "kernelspec": {
   "display_name": "Python 3",
   "language": "python",
   "name": "python3"
  },
  "language_info": {
   "codemirror_mode": {
    "name": "ipython",
    "version": 3
   },
   "file_extension": ".py",
   "mimetype": "text/x-python",
   "name": "python",
   "nbconvert_exporter": "python",
   "pygments_lexer": "ipython3",
   "version": "3.8.8"
  }
 },
 "nbformat": 4,
 "nbformat_minor": 5
}
