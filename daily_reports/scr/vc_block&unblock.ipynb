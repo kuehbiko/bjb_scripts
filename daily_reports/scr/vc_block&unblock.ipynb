{
 "cells": [
  {
   "cell_type": "markdown",
   "id": "9c0ea6a0",
   "metadata": {},
   "source": [
    "# Vunerable Clients Blocklist"
   ]
  },
  {
   "cell_type": "code",
   "execution_count": 3,
   "id": "e09b5a2e",
   "metadata": {},
   "outputs": [],
   "source": [
    "import pandas as pd\n",
    "from datetime import date\n",
    "format_date = date.today().strftime('%Y%m%d') #YYYYMMDD"
   ]
  },
  {
   "cell_type": "code",
   "execution_count": 6,
   "id": "c5215f14",
   "metadata": {},
   "outputs": [],
   "source": [
    "def VC_Block():\n",
    "\n",
    "    #Check if file exists\n",
    "    if os.path.exists('' \n",
    "                      + format_date +'.csv'):\n",
    "        vc_toblock = pd.read_csv('' \n",
    "                                   + format_date +'.csv')\n",
    "        \n",
    "        print(\"\\n\" + date.today().strftime(\"%d-%b\"))\n",
    "        print(\"Portfolios to block:\")\n",
    "    \n",
    "        #List of portfolios to block:\n",
    "        vc_toblock = vc_toblock[\"Portfolio Number\"].tolist()\n",
    "    \n",
    "        if vc_toblock:\n",
    "            print('\\n'.join(i for i in vc_toblock))\n",
    "            #I would add line to auto-export the block file to pdf BUT THE FORMATTING IS SHIT SORRY theres no point\n",
    "            #You would still have to go in and adjust the column widths and stuff\n",
    "            #Maybe later\n",
    "        else:\n",
    "            print(\"<No portfolios flagged.>\")\n",
    "        \n",
    "    else:\n",
    "        print(\"<No corresponding file. Please run 1.block.ipynb in the VC RPRT folder to generate.>\")"
   ]
  },
  {
   "cell_type": "code",
   "execution_count": 1,
   "id": "bdda12cf",
   "metadata": {},
   "outputs": [],
   "source": [
    "def VC_Unblock():\n",
    "    \n",
    "    #Check if file exists\n",
    "    if os.path.exists('' \n",
    "                      + format_date +'.xlsx'):\n",
    "        vc_unblock = pd.read_excel('' \n",
    "                                   + format_date +'.xlsx')\n",
    "        \n",
    "        print(\"Portfolios to unblock:\")\n",
    "        \n",
    "        if vc_unblock.empty:\n",
    "            print(\"<No portfolios flagged.>\")\n",
    "        else:\n",
    "            vc_unblock = vc_unblock[\"Portfolio Number\"].tolist()\n",
    "            print('\\n'.join(i for i in vc_unblock))\n",
    "\n",
    "    else:\n",
    "        print(\"<No corresponding file.>\")"
   ]
  }
 ],
 "metadata": {
  "kernelspec": {
   "display_name": "Python 3",
   "language": "python",
   "name": "python3"
  },
  "language_info": {
   "codemirror_mode": {
    "name": "ipython",
    "version": 3
   },
   "file_extension": ".py",
   "mimetype": "text/x-python",
   "name": "python",
   "nbconvert_exporter": "python",
   "pygments_lexer": "ipython3",
   "version": "3.8.8"
  }
 },
 "nbformat": 4,
 "nbformat_minor": 5
}
