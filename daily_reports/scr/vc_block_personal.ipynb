{
 "cells": [
  {
   "cell_type": "code",
   "execution_count": 1,
   "id": "3bdfeb42",
   "metadata": {},
   "outputs": [],
   "source": [
    "import pandas as pd\n",
    "from datetime import date\n",
    "import warnings\n",
    "warnings.simplefilter(\"ignore\")"
   ]
  },
  {
   "cell_type": "markdown",
   "id": "9c0ea6a0",
   "metadata": {},
   "source": [
    "# add today's time"
   ]
  },
  {
   "cell_type": "code",
   "execution_count": 2,
   "id": "fbf8063f",
   "metadata": {},
   "outputs": [],
   "source": [
    "x=date.today()\n",
    "time = x.strftime('%Y%m%d')"
   ]
  },
  {
   "cell_type": "markdown",
   "id": "d8680ff1",
   "metadata": {},
   "source": [
    "# load file"
   ]
  },
  {
   "cell_type": "code",
   "execution_count": null,
   "id": "1d6da0ef",
   "metadata": {},
   "outputs": [],
   "source": [
    "###to be done file\n",
    "post = pd.read_excel(r''\n",
    "                     + time +'.xlsx')\n",
    "\n",
    "##already block\n",
    "block = pd.read_excel(r''\n",
    "                      + time +'.xlsx')"
   ]
  },
  {
   "cell_type": "markdown",
   "id": "ee55de1a",
   "metadata": {},
   "source": [
    "# select those portfolio needed to block"
   ]
  },
  {
   "cell_type": "code",
   "execution_count": null,
   "id": "a2766f13",
   "metadata": {
    "scrolled": true
   },
   "outputs": [],
   "source": [
    "need_block = block[(block['Vulnerable Client']=='Yes')&(block['Risk Profile (calculated)']=='High')]"
   ]
  },
  {
   "cell_type": "markdown",
   "id": "85264991",
   "metadata": {},
   "source": [
    "# finally output depends on whether post is empty"
   ]
  },
  {
   "cell_type": "code",
   "execution_count": null,
   "id": "451c569a",
   "metadata": {},
   "outputs": [],
   "source": [
    "if post.empty==True:\n",
    "    final = need_block\n",
    "else:\n",
    "    final = need_block[~need_block['Portfolio Number'].isin(post['Portfolio Number'])]"
   ]
  },
  {
   "cell_type": "code",
   "execution_count": null,
   "id": "c5d7a585",
   "metadata": {},
   "outputs": [],
   "source": [
    "final.to_csv(r''+ time +'.csv',index=None)"
   ]
  },
  {
   "cell_type": "code",
   "execution_count": null,
   "id": "455520b8",
   "metadata": {},
   "outputs": [],
   "source": [
    "print('Completed')"
   ]
  }
 ],
 "metadata": {
  "kernelspec": {
   "display_name": "Python 3",
   "language": "python",
   "name": "python3"
  },
  "language_info": {
   "codemirror_mode": {
    "name": "ipython",
    "version": 3
   },
   "file_extension": ".py",
   "mimetype": "text/x-python",
   "name": "python",
   "nbconvert_exporter": "python",
   "pygments_lexer": "ipython3",
   "version": "3.8.8"
  }
 },
 "nbformat": 4,
 "nbformat_minor": 5
}
