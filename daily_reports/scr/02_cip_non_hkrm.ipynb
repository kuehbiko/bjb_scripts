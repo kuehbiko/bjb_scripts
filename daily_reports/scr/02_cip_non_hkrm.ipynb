{
 "cells": [
  {
   "cell_type": "markdown",
   "id": "7d9825b8",
   "metadata": {},
   "source": [
    "### CIP SG Booked, non-HK RMs"
   ]
  },
  {
   "cell_type": "code",
   "execution_count": null,
   "id": "a6453e35",
   "metadata": {},
   "outputs": [],
   "source": [
    "date_list = [base - dt.timedelta(days=x) for x in range(numdays)]"
   ]
  },
  {
   "cell_type": "code",
   "execution_count": 2,
   "id": "2aff020a",
   "metadata": {},
   "outputs": [],
   "source": [
    "file_list = []"
   ]
  },
  {
   "cell_type": "code",
   "execution_count": 3,
   "id": "5fb76290",
   "metadata": {},
   "outputs": [],
   "source": [
    "def cip_non_hk():\n",
    "    for date in date_list:\n",
    "        format_date = date.strftime(\"%Y-%m-%d\") #YYYY-MM-DD\n",
    "        file_list.append(file_loc + '/IP_Review_FollowUp_SG_Booked_Non_HK_RM-' + format_date + '.xlsx')\n",
    "    \n",
    "        #Check if file exists\n",
    "        if os.path.exists(file_list[-1]):\n",
    "            continue\n",
    "        else:\n",
    "            file_list.pop()\n",
    "            file_list.append(\"NA\")\n",
    "        \n",
    "        \n",
    "    for day in range(len(file_list)):\n",
    "        print(\"\\n\" + date_list[day].strftime(\"%d-%b\"))\n",
    "    \n",
    "        #Loops through file_list and reads each report within given time range\n",
    "        if file_list[day] != \"NA\":\n",
    "            cip_nonHK = pd.read_excel(file_list[day])\n",
    "    \n",
    "            #Rearrange dataframe for new header\n",
    "            new_header = cip_nonHK.iloc[1]\n",
    "            cip_nonHK = cip_nonHK[2:]\n",
    "            cip_nonHK.columns = new_header\n",
    "            \n",
    "            cip_SG = cip_nonHK[cip_nonHK['RM Location'] == 'Singapore']\n",
    "            cip_BCO = cip_nonHK[cip_nonHK['RM Location'] != 'Singapore']\n",
    "        \n",
    "            #Identify accounts to block - this is a dataframe\n",
    "            cip_SG_toBlock = cip_SG[cip_SG[\"No. of Days Past Due\"] == 1]\n",
    "            cip_BCO_toBlock = cip_BCO[cip_BCO[\"No. of Days Past Due\"] == 1]\n",
    "    \n",
    "            #Reformat and print to console\n",
    "            print('SGTAG-00056:')\n",
    "            if cip_SG_toBlock.empty:\n",
    "                print(\"<No portfolios flagged.>\")\n",
    "            else:\n",
    "                for item in cip_SG_toBlock[\"Portfolio Number\"]:\n",
    "                    print(item)\n",
    "            \n",
    "            print('\\nSGTAG-00057:')\n",
    "            if cip_BCO_toBlock.empty:\n",
    "                print(\"<No portfolios flagged.>\")\n",
    "            else:\n",
    "                for item in cip_BCO_toBlock[\"Portfolio Number\"]:\n",
    "                    print(item)\n",
    "            \n",
    "        else:\n",
    "            print(\"<No file found.>\")"
   ]
  }
 ],
 "metadata": {
  "kernelspec": {
   "display_name": "Python 3",
   "language": "python",
   "name": "python3"
  },
  "language_info": {
   "codemirror_mode": {
    "name": "ipython",
    "version": 3
   },
   "file_extension": ".py",
   "mimetype": "text/x-python",
   "name": "python",
   "nbconvert_exporter": "python",
   "pygments_lexer": "ipython3",
   "version": "3.8.8"
  }
 },
 "nbformat": 4,
 "nbformat_minor": 5
}
