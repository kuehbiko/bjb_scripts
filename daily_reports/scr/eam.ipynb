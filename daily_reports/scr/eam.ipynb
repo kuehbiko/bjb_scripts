{
 "cells": [
  {
   "cell_type": "markdown",
   "id": "03b76175",
   "metadata": {},
   "source": [
    "# EAM with Double Agreements"
   ]
  },
  {
   "cell_type": "code",
   "execution_count": null,
   "id": "a65a976f",
   "metadata": {},
   "outputs": [],
   "source": [
    "date_list = [base - datetime.timedelta(days=x) for x in range(numdays)]"
   ]
  },
  {
   "cell_type": "code",
   "execution_count": 1,
   "id": "61591453",
   "metadata": {},
   "outputs": [],
   "source": [
    "file_list = []"
   ]
  },
  {
   "cell_type": "code",
   "execution_count": null,
   "id": "1aa9a180",
   "metadata": {},
   "outputs": [],
   "source": [
    "def EAM():\n",
    "    for date in date_list:\n",
    "        format_date = date.strftime(\"%Y-%m-%d\") #YYYY-MM-DD\n",
    "        file_list.append(file_loc + '' + format_date + '.xlsx')\n",
    "    \n",
    "        #Check if file exists\n",
    "        if os.path.exists(file_list[-1]):\n",
    "            continue\n",
    "        else:\n",
    "            file_list.pop()\n",
    "            file_list.append(\"NA\")\n",
    "\n",
    "    for day in range(len(file_list)):\n",
    "\n",
    "        print(\"\\n\" + date_list[day].strftime(\"%d-%b\"))\n",
    "    \n",
    "        #Loops through file_list and reads each report within given time range\n",
    "        if file_list[day] != \"NA\":\n",
    "            eam = pd.read_excel(file_list[day])\n",
    "    \n",
    "            #Rearrange dataframe for new header\n",
    "            new_header = eam.iloc[0]\n",
    "            eam = eam[1:]\n",
    "            eam.columns = new_header\n",
    "        \n",
    "            #Reformat and print to console\n",
    "            if eam.empty:\n",
    "                print(\"<No EAMs flagged.>\") \n",
    "            else:\n",
    "                for item in eam[\"EAM Code\"]:\n",
    "                    print(item)\n",
    "        else:\n",
    "            print(\"<No file found.>\")"
   ]
  }
 ],
 "metadata": {
  "kernelspec": {
   "display_name": "Python 3",
   "language": "python",
   "name": "python3"
  },
  "language_info": {
   "codemirror_mode": {
    "name": "ipython",
    "version": 3
   },
   "file_extension": ".py",
   "mimetype": "text/x-python",
   "name": "python",
   "nbconvert_exporter": "python",
   "pygments_lexer": "ipython3",
   "version": "3.8.8"
  }
 },
 "nbformat": 4,
 "nbformat_minor": 5
}
