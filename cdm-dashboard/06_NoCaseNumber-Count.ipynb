{
 "cells": [
  {
   "cell_type": "code",
   "execution_count": 1,
   "id": "50fda2df",
   "metadata": {},
   "outputs": [],
   "source": [
    "#import libraries\n",
    "import pandas as pd\n",
    "import numpy as np\n",
    "import warnings\n",
    "warnings.simplefilter(\"ignore\")"
   ]
  },
  {
   "cell_type": "code",
   "execution_count": 2,
   "id": "af325cca",
   "metadata": {},
   "outputs": [],
   "source": [
    "filename = \"TeamReport\""
   ]
  },
  {
   "cell_type": "code",
   "execution_count": 3,
   "id": "0863e2f5",
   "metadata": {},
   "outputs": [],
   "source": [
    "#read data\n",
    "team_report_closed_df = pd.read_excel(\"../CDM Reports/\" + filename + \".xlsx\", \n",
    "                                      usecols=[\"Case No\",\n",
    "                                               \"Task ID\",\n",
    "                                               \"Process Type\",\n",
    "                                               \"Currrent Task Status\",\n",
    "                                               \"Team\"])\n",
    "dashboard_df = pd.read_excel(\"Data.xlsx\",\n",
    "                             sheet_name=\"Base\",\n",
    "                             usecols=[\"Team\"])"
   ]
  },
  {
   "cell_type": "markdown",
   "id": "3adf799f",
   "metadata": {},
   "source": [
    "***"
   ]
  },
  {
   "cell_type": "code",
   "execution_count": 4,
   "id": "4b5eda6e",
   "metadata": {},
   "outputs": [],
   "source": [
    "#clean data\n",
    "#select only completed and rejected tasks\n",
    "team_report_closed_df = team_report_closed_df[team_report_closed_df[\"Currrent Task Status\"]!=\"CANCELLED\"]"
   ]
  },
  {
   "cell_type": "code",
   "execution_count": 5,
   "id": "b537a88b",
   "metadata": {},
   "outputs": [],
   "source": [
    "#select rows with process type == \"SG - ...\"\n",
    "team_report_closed_df = team_report_closed_df.dropna(axis=0, subset=[\"Process Type\"])\n",
    "team_report_closed_df = team_report_closed_df[team_report_closed_df[\"Process Type\"].str.contains(\"SG - \")]"
   ]
  },
  {
   "cell_type": "code",
   "execution_count": 6,
   "id": "d1e65801",
   "metadata": {},
   "outputs": [],
   "source": [
    "#select rows WITHOUT case number\n",
    "team_report_closed_df = team_report_closed_df[team_report_closed_df[\"Case No\"].isna()]"
   ]
  },
  {
   "cell_type": "code",
   "execution_count": 7,
   "id": "ddb965ba",
   "metadata": {},
   "outputs": [],
   "source": [
    "#strip trailing whitespace\n",
    "team_report_closed_df = team_report_closed_df.apply(lambda x: x.str.strip() if x.dtype == \"object\" else x)"
   ]
  },
  {
   "cell_type": "code",
   "execution_count": 8,
   "id": "5a9354a0",
   "metadata": {},
   "outputs": [],
   "source": [
    "#make list of teams\n",
    "team_list = set(dashboard_df[\"Team\"].tolist())"
   ]
  },
  {
   "cell_type": "markdown",
   "id": "706b64c2",
   "metadata": {},
   "source": [
    "***"
   ]
  },
  {
   "cell_type": "code",
   "execution_count": 9,
   "id": "f9c5836a",
   "metadata": {},
   "outputs": [],
   "source": [
    "team_report_closed_df = team_report_closed_df[team_report_closed_df[\"Team\"].isin(team_list)]"
   ]
  },
  {
   "cell_type": "markdown",
   "id": "08f77b94",
   "metadata": {},
   "source": [
    "***"
   ]
  },
  {
   "cell_type": "code",
   "execution_count": 10,
   "id": "394c05ad",
   "metadata": {},
   "outputs": [
    {
     "name": "stdout",
     "output_type": "stream",
     "text": [
      "Completed.\n"
     ]
    }
   ],
   "source": [
    "team_report_closed_df.to_csv(\"../Output/NoCaseNumber-Count_Test.csv\", index=False)\n",
    "print(\"Completed.\")"
   ]
  }
 ],
 "metadata": {
  "kernelspec": {
   "display_name": "Python 3",
   "language": "python",
   "name": "python3"
  },
  "language_info": {
   "codemirror_mode": {
    "name": "ipython",
    "version": 3
   },
   "file_extension": ".py",
   "mimetype": "text/x-python",
   "name": "python",
   "nbconvert_exporter": "python",
   "pygments_lexer": "ipython3",
   "version": "3.8.8"
  }
 },
 "nbformat": 4,
 "nbformat_minor": 5
}
