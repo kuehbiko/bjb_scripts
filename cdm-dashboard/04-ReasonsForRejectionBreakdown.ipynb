{
 "cells": [
  {
   "cell_type": "code",
   "execution_count": 1,
   "id": "f423fd71",
   "metadata": {},
   "outputs": [],
   "source": [
    "#import libraries\n",
    "import pandas as pd\n",
    "import numpy as np\n",
    "import warnings\n",
    "warnings.simplefilter(\"ignore\")"
   ]
  },
  {
   "cell_type": "code",
   "execution_count": 2,
   "id": "fee8523e",
   "metadata": {},
   "outputs": [],
   "source": [
    "filename = \"TaskHistory\" #input(\"filename: \") #filename of CDM Task History TaskHistory_20230402122833"
   ]
  },
  {
   "cell_type": "code",
   "execution_count": 3,
   "id": "814308df",
   "metadata": {},
   "outputs": [],
   "source": [
    "#read data\n",
    "task_history_df = pd.read_excel(\"../CDM Reports/\" + filename + \".xlsx\", \n",
    "                                header=0,\n",
    "                                usecols=[\"Process Type\",\n",
    "                                         \"Task ID\",\n",
    "                                         \"Case No\",\n",
    "                                         \"Status\",\n",
    "                                         \"Last Assigned To Team\",\n",
    "                                         \"Rejection Reason\"])\n",
    "\n",
    "dashboard_df = pd.read_excel(\"Data.xlsx\",\n",
    "                             sheet_name=\"Base\")"
   ]
  },
  {
   "cell_type": "markdown",
   "id": "d98d2671",
   "metadata": {},
   "source": [
    "***"
   ]
  },
  {
   "cell_type": "code",
   "execution_count": 4,
   "id": "43fb4797",
   "metadata": {},
   "outputs": [],
   "source": [
    "#clean data\n",
    "#select only rejected tasks\n",
    "task_history_df = task_history_df[task_history_df[\"Status\"]==\"REJECTED\"]"
   ]
  },
  {
   "cell_type": "code",
   "execution_count": 5,
   "id": "a06729d5",
   "metadata": {},
   "outputs": [],
   "source": [
    "#remove rows with no case number and no process type\n",
    "task_history_df = task_history_df.dropna(axis=0, subset=[\"Case No\", \"Process Type\"])"
   ]
  },
  {
   "cell_type": "code",
   "execution_count": 6,
   "id": "454d6d68",
   "metadata": {},
   "outputs": [],
   "source": [
    "#select rows only with SG process type\n",
    "task_history_df = task_history_df[task_history_df[\"Process Type\"].str.contains(\"SG - \")]"
   ]
  },
  {
   "cell_type": "code",
   "execution_count": 7,
   "id": "df17a903",
   "metadata": {},
   "outputs": [],
   "source": [
    "#remove trailing whitespace\n",
    "task_history_df = task_history_df.apply(lambda x: x.str.strip() if x.dtype == \"object\" else x)"
   ]
  },
  {
   "cell_type": "code",
   "execution_count": 8,
   "id": "d7d243df",
   "metadata": {},
   "outputs": [],
   "source": [
    "#convert reasons of rejection into a list (users are allowed to pick more than one) - reason1, reason2 -> [reason1, reason2]\n",
    "#explode the list into rows, then reset indexes\n",
    "task_history_df[\"Rejection Reason\"] = task_history_df[\"Rejection Reason\"].apply(lambda x: list(x.split(\",\")))\n",
    "task_history_df = task_history_df.explode(\"Rejection Reason\")\n",
    "task_history_df = task_history_df.reset_index(drop=True)"
   ]
  },
  {
   "cell_type": "code",
   "execution_count": 9,
   "id": "82e68b12",
   "metadata": {},
   "outputs": [],
   "source": [
    "#lists:\n",
    "team_list = dashboard_df[\"Team\"].tolist()\n",
    "process_list = dashboard_df[\"Process Type\"].tolist()\n",
    "rej_list = list(pd.unique(task_history_df[\"Rejection Reason\"]))"
   ]
  },
  {
   "cell_type": "markdown",
   "id": "3fa12320",
   "metadata": {},
   "source": [
    "***"
   ]
  },
  {
   "cell_type": "code",
   "execution_count": 10,
   "id": "d435b6e7",
   "metadata": {},
   "outputs": [],
   "source": [
    "#for each process/team, tally reasons of rejection: process1teamA {reason1: 1, reason2: 3, reason4: 1, etc,}\n",
    "rejected_list = []\n",
    "for idx in range(len(process_list)):\n",
    "    rejected_cases_df = task_history_df[(task_history_df[\"Process Type\"]==process_list[idx]) &\n",
    "                                        (task_history_df[\"Last Assigned To Team\"]==team_list[idx])]\n",
    "    \n",
    "    temp_dict = {}\n",
    "    for reason in rej_list:\n",
    "        temp_dict[reason] = len(rejected_cases_df[rejected_cases_df[\"Rejection Reason\"]==reason])\n",
    "    \n",
    "    rejected_list.append(temp_dict)"
   ]
  },
  {
   "cell_type": "markdown",
   "id": "3ea35c90",
   "metadata": {},
   "source": [
    "***"
   ]
  },
  {
   "cell_type": "code",
   "execution_count": 11,
   "id": "f6d5eb97",
   "metadata": {},
   "outputs": [],
   "source": [
    "#organize this list of dictionaries into a proper dataframe. each dictionary is a row. recursively append each row to main dataframe\n",
    "rej_reasons_df = pd.DataFrame()\n",
    "for idx,val in enumerate(rejected_list):\n",
    "    temp_df = pd.DataFrame(rejected_list[idx], index=[process_list[idx] + \", \" + team_list[idx]])\n",
    "    rej_reasons_df = rej_reasons_df.append(temp_df) "
   ]
  },
  {
   "cell_type": "code",
   "execution_count": 12,
   "id": "3f241650",
   "metadata": {},
   "outputs": [],
   "source": [
    "#single process-team index -> convert to regular column -> convert to list within col -> split list into 2 columns -> final output\n",
    "rej_reasons_df[\"Process-Team\"] = rej_reasons_df.index\n",
    "rej_reasons_df[\"Process-Team\"] = rej_reasons_df[\"Process-Team\"].apply(lambda x: list(x.split(\",\")))\n",
    "rej_reasons_df = rej_reasons_df.reset_index()\n",
    "split_df = pd.DataFrame(rej_reasons_df[\"Process-Team\"].tolist(), columns=[\"Process\", \"Team\"])\n",
    "output_df = (pd.concat((split_df, rej_reasons_df), axis=1)).drop([\"index\", \"Process-Team\"], axis=1)\n",
    "#add total row\n",
    "output_df.loc['Total']= output_df.sum()\n",
    "#set the last row of \"Process\" and \"Team\" columns to be blank\n",
    "output_df.loc[output_df.index[-1], [\"Process\", \"Team\"]] = ''"
   ]
  },
  {
   "cell_type": "code",
   "execution_count": 14,
   "id": "dd40c2ab",
   "metadata": {},
   "outputs": [
    {
     "name": "stdout",
     "output_type": "stream",
     "text": [
      "Completed.\n"
     ]
    }
   ],
   "source": [
    "output_df.to_csv(\"../Output/RejectedTasksBreakdown.csv\")\n",
    "print(\"Completed.\")"
   ]
  }
 ],
 "metadata": {
  "kernelspec": {
   "display_name": "Python 3",
   "language": "python",
   "name": "python3"
  },
  "language_info": {
   "codemirror_mode": {
    "name": "ipython",
    "version": 3
   },
   "file_extension": ".py",
   "mimetype": "text/x-python",
   "name": "python",
   "nbconvert_exporter": "python",
   "pygments_lexer": "ipython3",
   "version": "3.8.8"
  }
 },
 "nbformat": 4,
 "nbformat_minor": 5
}
