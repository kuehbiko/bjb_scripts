{
 "cells": [
  {
   "cell_type": "code",
   "execution_count": 1,
   "id": "0becc91d",
   "metadata": {},
   "outputs": [],
   "source": [
    "#import libraries\n",
    "import pandas as pd\n",
    "import numpy as np\n",
    "from datetime import datetime, timedelta, date\n",
    "import warnings\n",
    "warnings.simplefilter(\"ignore\")"
   ]
  },
  {
   "cell_type": "code",
   "execution_count": 2,
   "id": "48a6f5aa",
   "metadata": {},
   "outputs": [],
   "source": [
    "filename = \"TeamTasks\" #input(\"filename: \") #filename of CDM raw data TeamTasks_20230402113512"
   ]
  },
  {
   "cell_type": "code",
   "execution_count": 3,
   "id": "cc241f00",
   "metadata": {},
   "outputs": [],
   "source": [
    "#read data\n",
    "team_tasks_pending_df = pd.read_excel(\"../CDM Reports/\" + filename + \".xlsx\", \n",
    "                                      usecols=[\"Task ID\",\n",
    "                                               \"Case No\",\n",
    "                                               \"Process Type\",\n",
    "                                               \"Status\",\n",
    "                                               \"Last Assigned To Team\",\n",
    "                                               \"Task Pending With\"])\n",
    "dashboard_df = pd.read_excel(\"Data.xlsx\", sheet_name=\"Base\")"
   ]
  },
  {
   "cell_type": "markdown",
   "id": "ba2e7b63",
   "metadata": {},
   "source": [
    "***"
   ]
  },
  {
   "cell_type": "code",
   "execution_count": 4,
   "id": "278141b3",
   "metadata": {},
   "outputs": [],
   "source": [
    "#remove rows with no case number or with no process type\n",
    "team_tasks_pending_df = team_tasks_pending_df.dropna(axis=0, subset=[\"Case No\", \"Process Type\"])"
   ]
  },
  {
   "cell_type": "code",
   "execution_count": 5,
   "id": "73f05419",
   "metadata": {},
   "outputs": [],
   "source": [
    "#select rows with only SG process types --> process type starts with \"SG - ...\"\n",
    "#team_tasks_pending_df = team_tasks_pending_df[team_tasks_pending_df[\"Process Type\"].str.contains(\"SG - \")]"
   ]
  },
  {
   "cell_type": "code",
   "execution_count": 6,
   "id": "182d8356",
   "metadata": {},
   "outputs": [],
   "source": [
    "#strip all trailing whitespace:\n",
    "team_tasks_pending_df = team_tasks_pending_df.apply(lambda x: x.str.strip() if x.dtype == \"object\" else x)"
   ]
  },
  {
   "cell_type": "code",
   "execution_count": 7,
   "id": "b527a140",
   "metadata": {},
   "outputs": [],
   "source": [
    "#make list of process types, teams\n",
    "process_list = dashboard_df[\"Process Type\"].tolist()\n",
    "process_list = process_list + [\"PLEASE SELECT THE CORRECT PROCESS TYPE\", \"PLEASE SELECT THE CORRECT PROCESS TYPE\", \"PLEASE SELECT THE CORRECT PROCESS TYPE\"]\n",
    "team_list = dashboard_df[\"Team\"].tolist()\n",
    "team_list = team_list + [\"SG CAM DOC REVIEW\", \"SG DATA MANAGEMENT - MAILING\", \"SG DATA MANAGEMENT - STATIC\"]"
   ]
  },
  {
   "cell_type": "code",
   "execution_count": 8,
   "id": "bfb41bca",
   "metadata": {},
   "outputs": [],
   "source": [
    "#split data into pending internally and pending externally(with others)\n",
    "#internally: task pending with field is blank or \"NONE\"\n",
    "#externally: everything else\n",
    "pending_int_df = team_tasks_pending_df[(team_tasks_pending_df[\"Task Pending With\"].isna()) |\n",
    "                                       (team_tasks_pending_df[\"Task Pending With\"]==\"NONE\")]\n",
    "pending_ext_df = team_tasks_pending_df.drop(pending_int_df.index, errors=\"ignore\")"
   ]
  },
  {
   "cell_type": "markdown",
   "id": "d86badb1",
   "metadata": {},
   "source": [
    "***"
   ]
  },
  {
   "cell_type": "code",
   "execution_count": 9,
   "id": "8e44aa7d",
   "metadata": {},
   "outputs": [],
   "source": [
    "#tasks that are pending within CAM teams\n",
    "#make a list of # of tasks per process-team\n",
    "#[task# for process1teamA, task# for process1teamB, task# for process2teamA, etc.]\n",
    "pending_int_list = []\n",
    "for idx,val in enumerate(process_list):\n",
    "    count_pending_int_df = pending_int_df[(pending_int_df[\"Process Type\"]==process_list[idx]) &\n",
    "                                          (pending_int_df[\"Last Assigned To Team\"]==team_list[idx])]\n",
    "    pending_int_list.append(len(pd.unique(count_pending_int_df[\"Task ID\"])))\n",
    "    #print(process_list[idx], team_list[idx], len(pd.unique(count_pending_int_df[\"Task ID\"])))"
   ]
  },
  {
   "cell_type": "markdown",
   "id": "3725e59c",
   "metadata": {},
   "source": [
    "***"
   ]
  },
  {
   "cell_type": "code",
   "execution_count": 10,
   "id": "6055901e",
   "metadata": {},
   "outputs": [],
   "source": [
    "#tasks that are pending with teams outside CAM\n",
    "#need a list of each external team (each list is 1 column): list for Front, list for IT, list for Compliance etc.\n",
    "ext_team_list = list(pd.unique(pending_ext_df[\"Task Pending With\"]))\n",
    "pending_ext_dict = {}\n",
    "for team in ext_team_list:\n",
    "    \n",
    "    pending_ext_list = []\n",
    "    for idx,val in enumerate(process_list):\n",
    "        count_pending_ext_df = pending_ext_df[(pending_ext_df[\"Process Type\"]==process_list[idx]) &\n",
    "                                              (pending_ext_df[\"Last Assigned To Team\"]==team_list[idx])&\n",
    "                                              (pending_ext_df[\"Task Pending With\"]==team)]\n",
    "        pending_ext_list.append(len(pd.unique(count_pending_ext_df[\"Task ID\"])))\n",
    "    pending_ext_dict[team] = pending_ext_list\n",
    "    #print(process_list[idx], team_list[idx], len(pd.unique(count_pending_ext_df[\"Task ID\"])))"
   ]
  },
  {
   "cell_type": "markdown",
   "id": "7c9dc176",
   "metadata": {},
   "source": [
    "***"
   ]
  },
  {
   "cell_type": "code",
   "execution_count": 11,
   "id": "39b4dfba",
   "metadata": {},
   "outputs": [],
   "source": [
    "#so now we have out lists:\n",
    "#internally pending tasks: pending_int_list\n",
    "#externally pending tasks: many pending_ext_lists within pending_ext_dict\n",
    "#all we have to do is transform this into a dataframe:\n",
    "data = zip(process_list,team_list,pending_int_list)\n",
    "df1 = pd.DataFrame(data, columns=[\"Process Type\",\n",
    "                                  \"Team\",\n",
    "                                  \"Tasks Pending Within CAM\"])\n",
    "\n",
    "#add pending_ext_dict columns\n",
    "df2 = pd.DataFrame(pending_ext_dict)\n",
    "output_df = pd.concat([df1, df2], axis=1)\n",
    "\n",
    "#add total row\n",
    "output_df.loc['Total']= output_df.sum()\n",
    "#set the last row of \"Process\" and \"Team\" columns to be blank\n",
    "output_df.loc[output_df.index[-1], [\"Process Type\", \"Team\"]] = ''"
   ]
  },
  {
   "cell_type": "code",
   "execution_count": 12,
   "id": "96274689",
   "metadata": {},
   "outputs": [
    {
     "name": "stdout",
     "output_type": "stream",
     "text": [
      "Completed.\n"
     ]
    }
   ],
   "source": [
    "output_df.to_csv(\"../Output/PendingTasksBreakdown.csv\")\n",
    "print(\"Completed.\")"
   ]
  }
 ],
 "metadata": {
  "kernelspec": {
   "display_name": "Python 3",
   "language": "python",
   "name": "python3"
  },
  "language_info": {
   "codemirror_mode": {
    "name": "ipython",
    "version": 3
   },
   "file_extension": ".py",
   "mimetype": "text/x-python",
   "name": "python",
   "nbconvert_exporter": "python",
   "pygments_lexer": "ipython3",
   "version": "3.8.8"
  }
 },
 "nbformat": 4,
 "nbformat_minor": 5
}
