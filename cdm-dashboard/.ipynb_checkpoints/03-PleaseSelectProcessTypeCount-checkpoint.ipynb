{
 "cells": [
  {
   "cell_type": "code",
   "execution_count": 1,
   "id": "b5ac9744",
   "metadata": {},
   "outputs": [],
   "source": [
    "#import libraries\n",
    "import pandas as pd\n",
    "import numpy as np\n",
    "import warnings\n",
    "warnings.simplefilter(\"ignore\")"
   ]
  },
  {
   "cell_type": "code",
   "execution_count": 2,
   "id": "4982d3fe",
   "metadata": {
    "scrolled": true
   },
   "outputs": [],
   "source": [
    "filename = \"TeamReport\" #input(\"filename: \") #filename of the team report"
   ]
  },
  {
   "cell_type": "code",
   "execution_count": 3,
   "id": "c7d36439",
   "metadata": {
    "scrolled": true
   },
   "outputs": [],
   "source": [
    "#read data\n",
    "team_report_closed_df = pd.read_excel(\"../CDM Reports/\" + filename + \".xlsx\", \n",
    "                                      usecols=[\"Process Type\",\n",
    "                                               \"Case No\",\n",
    "                                               \"Currrent Task Status\",\n",
    "                                               \"Team\"])\n",
    "dashboard_df = pd.read_excel(\"Data.xlsx\",\n",
    "                             sheet_name=\"Base\",\n",
    "                             usecols=[\"Team\"])"
   ]
  },
  {
   "cell_type": "markdown",
   "id": "02ebf3ec",
   "metadata": {},
   "source": [
    "***"
   ]
  },
  {
   "cell_type": "code",
   "execution_count": 4,
   "id": "78f3b6c8",
   "metadata": {},
   "outputs": [],
   "source": [
    "#clean data\n",
    "#select only completed and rejected tasks\n",
    "team_report_closed_df = team_report_closed_df[team_report_closed_df[\"Currrent Task Status\"]!=\"CANCELLED\"]"
   ]
  },
  {
   "cell_type": "code",
   "execution_count": 5,
   "id": "b7cd68a3",
   "metadata": {},
   "outputs": [],
   "source": [
    "#select only rows where the process type is \"Please Select the Correct Process Type\"\n",
    "team_report_closed_df = team_report_closed_df[team_report_closed_df[\"Process Type\"]==\"PLEASE SELECT THE CORRECT PROCESS TYPE\"]"
   ]
  },
  {
   "cell_type": "code",
   "execution_count": 6,
   "id": "da259ee5",
   "metadata": {},
   "outputs": [],
   "source": [
    "#drop rows without case numbers\n",
    "team_report_closed_df = team_report_closed_df.dropna(axis=0, subset=[\"Case No\"])"
   ]
  },
  {
   "cell_type": "code",
   "execution_count": 7,
   "id": "989adde8",
   "metadata": {},
   "outputs": [],
   "source": [
    "#strip trailing whitespace\n",
    "team_report_closed_df = team_report_closed_df.apply(lambda x: x.str.strip() if x.dtype == \"object\" else x)"
   ]
  },
  {
   "cell_type": "code",
   "execution_count": 8,
   "id": "5fd0ed26",
   "metadata": {},
   "outputs": [],
   "source": [
    "#make list of teams and list of cases with \"Please Select the Correct Process Type\"\n",
    "team_list = set(dashboard_df[\"Team\"].tolist())\n",
    "case_list = pd.unique(team_report_closed_df[\"Case No\"]).tolist()"
   ]
  },
  {
   "cell_type": "markdown",
   "id": "0480f0ff",
   "metadata": {},
   "source": [
    "***"
   ]
  },
  {
   "cell_type": "code",
   "execution_count": 9,
   "id": "82e937cd",
   "metadata": {},
   "outputs": [],
   "source": [
    "#main_dict which will become the dataframe later\n",
    "main_dict = {}\n",
    "main_dict[\"Case No\"] = case_list #first column\n",
    "\n",
    "#create subsequent columns based on teams in team_list\n",
    "#looping through team_list means we dont need to care how many teams we add later\n",
    "#1 if team is in team_report_closed_df[team_report_closed_df[\"Case No\"==case]], else 0, for case in case_list\n",
    "for team in team_list:\n",
    "    temp_list = [1 if team in team_report_closed_df[team_report_closed_df[\"Case No\"]==case].values else 0 for case in case_list]\n",
    "    main_dict[team] = temp_list #add subsequent columns to main_dict"
   ]
  },
  {
   "cell_type": "markdown",
   "id": "e88927aa",
   "metadata": {},
   "source": [
    "***"
   ]
  },
  {
   "cell_type": "code",
   "execution_count": 10,
   "id": "d465ee2a",
   "metadata": {
    "scrolled": true
   },
   "outputs": [
    {
     "name": "stdout",
     "output_type": "stream",
     "text": [
      "Completed.\n"
     ]
    }
   ],
   "source": [
    "df = pd.DataFrame(main_dict)\n",
    "df.to_csv(\"../Output/PleaseSelectProcessType-Count.csv\", index=False)\n",
    "print(\"Completed.\")"
   ]
  }
 ],
 "metadata": {
  "kernelspec": {
   "display_name": "Python 3 (ipykernel)",
   "language": "python",
   "name": "python3"
  },
  "language_info": {
   "codemirror_mode": {
    "name": "ipython",
    "version": 3
   },
   "file_extension": ".py",
   "mimetype": "text/x-python",
   "name": "python",
   "nbconvert_exporter": "python",
   "pygments_lexer": "ipython3",
   "version": "3.9.12"
  }
 },
 "nbformat": 4,
 "nbformat_minor": 5
}
